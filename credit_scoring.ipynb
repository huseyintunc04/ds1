{
 "cells": [
  {
   "cell_type": "markdown",
   "source": [
    "## Problems:\n",
    "* 'days_employed' sanirim borclandigi gün sayisi. onu tarihe cevirmek istedim fakat yapamadim: su sekilde denedim:\n",
    "    df[\"days_employed\"] = df[\"days_employed\"].astype('datetime')\n",
    "\n",
    "* elimizdeki data bir seri mi yoksa DataFrame mi?\n",
    "\n",
    "* 'Conclusion' kismina tam olarak ne gibi not aliyoruz. bir örnek yazarmisin?"
   ],
   "metadata": {
    "collapsed": false,
    "pycharm": {
     "name": "#%% md\n"
    }
   }
  },
  {
   "cell_type": "markdown",
   "source": [
    "### <font color='blue'>Response:</font>\n",
    "- ´days_employed´ kac gun o kisinin chalishmish oldugunu gostermesi gerekir normalde. ama data'da sorun oldugu icin o net bi sekilde degil. Bizim cevaplamamiz gereken sorularin hic birisi o sutun'la ilgili olmadigi icin, aslinda o sutunu drop edebiliriz. Ama ish hayatindaki dogru olan yaklashim: nasil bir sorun var, sorunun nedeni ne olabilir, eger o sorunu kendimiz halledebildiysek (mesele o sutundaki veriler gun degilde dakika falan olsa kendimiz gune cevirebiliriz ve o sutunu drop etmemize gerek yok) nasil halettik, tum bunlari not edip, bize data'yi veren elemana bildirmemiz lazim. Cunku database ayarlarinda sorun olabilir, onlarin bunu duzeltmesi lazim! (Bu sutundaki verileri 'datetime' ceviremezsin, ama baska 'datetime'verisi olan sutunu cevirmek istediginde pandas'in [to_datetime function'i](https://pandas.pydata.org/docs/reference/api/pandas.to_datetime.html#pandas.to_datetime) onu kullanman lazim.\n",
    "- Dataframe: hem sutunu hem satiri olan veri diyebiliriz (bildigimiz bir table dataframe'dir). Bu dataframe'in tek bir sutununa seri diyebiliriz. Mesela `df['debt']`diye alip bunun data type'na bakarsan `pandas Series`yazar. sadece `df` data type'na bakarsan `pandas dataframe`yazar.\n",
    "- Conlusion kismina neler yazabilcegin ve baskada bir kac tane tavsiye/sorun ashagida ekledim!"
   ],
   "metadata": {
    "collapsed": false,
    "pycharm": {
     "name": "#%% md\n"
    }
   }
  },
  {
   "cell_type": "markdown",
   "metadata": {},
   "source": [
    "## Open the data file and have a look at the general information."
   ]
  },
  {
   "cell_type": "code",
   "execution_count": 24,
   "outputs": [],
   "source": [
    "import pandas as pd; import numpy as np; import seaborn as sns; import matplotlib.pyplot as plt"
   ],
   "metadata": {
    "collapsed": false,
    "pycharm": {
     "name": "#%%\n"
    }
   }
  },
  {
   "cell_type": "code",
   "execution_count": 25,
   "outputs": [],
   "source": [
    "df = pd.read_csv(\"credit_scoring_eng.csv\")"
   ],
   "metadata": {
    "collapsed": false,
    "pycharm": {
     "name": "#%%\n"
    }
   }
  },
  {
   "cell_type": "code",
   "execution_count": 26,
   "outputs": [
    {
     "name": "stdout",
     "output_type": "stream",
     "text": [
      "<class 'pandas.core.frame.DataFrame'>\n",
      "RangeIndex: 21525 entries, 0 to 21524\n",
      "Data columns (total 12 columns):\n",
      " #   Column            Non-Null Count  Dtype  \n",
      "---  ------            --------------  -----  \n",
      " 0   children          21525 non-null  int64  \n",
      " 1   days_employed     19351 non-null  float64\n",
      " 2   dob_years         21525 non-null  int64  \n",
      " 3   education         21525 non-null  object \n",
      " 4   education_id      21525 non-null  int64  \n",
      " 5   family_status     21525 non-null  object \n",
      " 6   family_status_id  21525 non-null  int64  \n",
      " 7   gender            21525 non-null  object \n",
      " 8   income_type       21525 non-null  object \n",
      " 9   debt              21525 non-null  int64  \n",
      " 10  total_income      19351 non-null  float64\n",
      " 11  purpose           21525 non-null  object \n",
      "dtypes: float64(2), int64(5), object(5)\n",
      "memory usage: 2.0+ MB\n"
     ]
    }
   ],
   "source": [
    "df.info()"
   ],
   "metadata": {
    "collapsed": false,
    "pycharm": {
     "name": "#%%\n"
    }
   }
  },
  {
   "cell_type": "code",
   "execution_count": 27,
   "outputs": [
    {
     "data": {
      "text/plain": "(21525, 12)"
     },
     "execution_count": 27,
     "metadata": {},
     "output_type": "execute_result"
    }
   ],
   "source": [
    "df.shape"
   ],
   "metadata": {
    "collapsed": false,
    "pycharm": {
     "name": "#%%\n"
    }
   }
  },
  {
   "cell_type": "code",
   "execution_count": 28,
   "outputs": [
    {
     "data": {
      "text/plain": "                    count          mean            std           min  \\\nchildren          21525.0      0.538908       1.381587     -1.000000   \ndays_employed     19351.0  63046.497661  140827.311974 -18388.949901   \ndob_years         21525.0     43.293380      12.574584      0.000000   \neducation_id      21525.0      0.817236       0.548138      0.000000   \nfamily_status_id  21525.0      0.972544       1.420324      0.000000   \ndebt              21525.0      0.080883       0.272661      0.000000   \ntotal_income      19351.0  26787.568355   16475.450632   3306.762000   \n\n                           25%           50%           75%            max  \nchildren              0.000000      0.000000      1.000000      20.000000  \ndays_employed     -2747.423625  -1203.369529   -291.095954  401755.400475  \ndob_years            33.000000     42.000000     53.000000      75.000000  \neducation_id          1.000000      1.000000      1.000000       4.000000  \nfamily_status_id      0.000000      0.000000      1.000000       4.000000  \ndebt                  0.000000      0.000000      0.000000       1.000000  \ntotal_income      16488.504500  23202.870000  32549.611000  362496.645000  ",
      "text/html": "<div>\n<style scoped>\n    .dataframe tbody tr th:only-of-type {\n        vertical-align: middle;\n    }\n\n    .dataframe tbody tr th {\n        vertical-align: top;\n    }\n\n    .dataframe thead th {\n        text-align: right;\n    }\n</style>\n<table border=\"1\" class=\"dataframe\">\n  <thead>\n    <tr style=\"text-align: right;\">\n      <th></th>\n      <th>count</th>\n      <th>mean</th>\n      <th>std</th>\n      <th>min</th>\n      <th>25%</th>\n      <th>50%</th>\n      <th>75%</th>\n      <th>max</th>\n    </tr>\n  </thead>\n  <tbody>\n    <tr>\n      <th>children</th>\n      <td>21525.0</td>\n      <td>0.538908</td>\n      <td>1.381587</td>\n      <td>-1.000000</td>\n      <td>0.000000</td>\n      <td>0.000000</td>\n      <td>1.000000</td>\n      <td>20.000000</td>\n    </tr>\n    <tr>\n      <th>days_employed</th>\n      <td>19351.0</td>\n      <td>63046.497661</td>\n      <td>140827.311974</td>\n      <td>-18388.949901</td>\n      <td>-2747.423625</td>\n      <td>-1203.369529</td>\n      <td>-291.095954</td>\n      <td>401755.400475</td>\n    </tr>\n    <tr>\n      <th>dob_years</th>\n      <td>21525.0</td>\n      <td>43.293380</td>\n      <td>12.574584</td>\n      <td>0.000000</td>\n      <td>33.000000</td>\n      <td>42.000000</td>\n      <td>53.000000</td>\n      <td>75.000000</td>\n    </tr>\n    <tr>\n      <th>education_id</th>\n      <td>21525.0</td>\n      <td>0.817236</td>\n      <td>0.548138</td>\n      <td>0.000000</td>\n      <td>1.000000</td>\n      <td>1.000000</td>\n      <td>1.000000</td>\n      <td>4.000000</td>\n    </tr>\n    <tr>\n      <th>family_status_id</th>\n      <td>21525.0</td>\n      <td>0.972544</td>\n      <td>1.420324</td>\n      <td>0.000000</td>\n      <td>0.000000</td>\n      <td>0.000000</td>\n      <td>1.000000</td>\n      <td>4.000000</td>\n    </tr>\n    <tr>\n      <th>debt</th>\n      <td>21525.0</td>\n      <td>0.080883</td>\n      <td>0.272661</td>\n      <td>0.000000</td>\n      <td>0.000000</td>\n      <td>0.000000</td>\n      <td>0.000000</td>\n      <td>1.000000</td>\n    </tr>\n    <tr>\n      <th>total_income</th>\n      <td>19351.0</td>\n      <td>26787.568355</td>\n      <td>16475.450632</td>\n      <td>3306.762000</td>\n      <td>16488.504500</td>\n      <td>23202.870000</td>\n      <td>32549.611000</td>\n      <td>362496.645000</td>\n    </tr>\n  </tbody>\n</table>\n</div>"
     },
     "execution_count": 28,
     "metadata": {},
     "output_type": "execute_result"
    }
   ],
   "source": [
    "df.describe().T"
   ],
   "metadata": {
    "collapsed": false,
    "pycharm": {
     "name": "#%%\n"
    }
   }
  },
  {
   "cell_type": "markdown",
   "metadata": {
    "pycharm": {
     "name": "#%% md\n"
    }
   },
   "source": [
    "### Conclusion"
   ]
  },
  {
   "cell_type": "markdown",
   "source": [
    "> ### <font color='orange'>Tavsiye: </font> Bu \"conclusion\" kisimlarinda yukarda yaptiklarinla neleri kesfettin, onlari kisaca ozetleyebilirsin. Mesela: data kac satir ve sutundan olushuyor (atiyorum: data engineer sana 22000 satiri ve 13 sutunu olan data verdim diyor. ama senin elinde 21525 satir ve 12 sutun var. Veya senin patronlarin ne kadar datayla ishe bashladigini bilmek istiyour), nasil hatalari buldun simdiye kadar (missing values varmi, hangi sutunda hac tane missing var, duplicates varmi. bunun gibi neler kesfettinse onlari yaziya dokmeyi tavsiye ederim. Yani su anlik onemsiz seyler gibi duruyor ama eminim boyle yaziya dokerken kendi bu terimleri kullanma becerilerinde artacak ve ileride calistigin yerde patronlar data'dan pandas'tan anlamadiklari durumunda illa ki yapman gerekecek!"
   ],
   "metadata": {
    "collapsed": false
   }
  },
  {
   "cell_type": "markdown",
   "metadata": {},
   "source": [
    "## Data preprocessing"
   ]
  },
  {
   "cell_type": "markdown",
   "metadata": {},
   "source": [
    "### Processing missing values"
   ]
  },
  {
   "cell_type": "code",
   "metadata": {
    "pycharm": {
     "name": "#%%\n"
    }
   },
   "source": [
    "df.isnull().values.any()"
   ],
   "execution_count": 29,
   "outputs": [
    {
     "data": {
      "text/plain": "True"
     },
     "execution_count": 29,
     "metadata": {},
     "output_type": "execute_result"
    }
   ]
  },
  {
   "cell_type": "code",
   "execution_count": 30,
   "outputs": [
    {
     "data": {
      "text/plain": "children               0\ndays_employed       2174\ndob_years              0\neducation              0\neducation_id           0\nfamily_status          0\nfamily_status_id       0\ngender                 0\nincome_type            0\ndebt                   0\ntotal_income        2174\npurpose                0\ndtype: int64"
     },
     "execution_count": 30,
     "metadata": {},
     "output_type": "execute_result"
    }
   ],
   "source": [
    "df.isnull().sum()"
   ],
   "metadata": {
    "collapsed": false,
    "pycharm": {
     "name": "#%%\n"
    }
   }
  },
  {
   "cell_type": "markdown",
   "source": [
    "> ### <font color='orange'>Tavsiye: </font> Data uzerine degisiklikler yaptiginda, ozellikle data'ya yeni bi seyler eklediysen (missing value filling, drop_duplicates) bunlari saglam bir argumanla aciklaman gerekir! Yani missing olarak duruyordu onlari drop ettim veya einfach mean'le doldurdum demek cok ikna edici olmaz!"
   ],
   "metadata": {
    "collapsed": false,
    "pycharm": {
     "name": "#%% md\n"
    }
   }
  },
  {
   "cell_type": "code",
   "execution_count": 31,
   "outputs": [],
   "source": [
    "df.fillna(df.mean(), inplace=True)"
   ],
   "metadata": {
    "collapsed": false,
    "pycharm": {
     "name": "#%%\n"
    }
   }
  },
  {
   "cell_type": "code",
   "execution_count": 32,
   "outputs": [
    {
     "data": {
      "text/plain": "children            0\ndays_employed       0\ndob_years           0\neducation           0\neducation_id        0\nfamily_status       0\nfamily_status_id    0\ngender              0\nincome_type         0\ndebt                0\ntotal_income        0\npurpose             0\ndtype: int64"
     },
     "execution_count": 32,
     "metadata": {},
     "output_type": "execute_result"
    }
   ],
   "source": [
    "df.isnull().sum()"
   ],
   "metadata": {
    "collapsed": false,
    "pycharm": {
     "name": "#%%\n"
    }
   }
  },
  {
   "cell_type": "markdown",
   "source": [
    "### Conclusion\n",
    "\n"
   ],
   "metadata": {
    "collapsed": false
   }
  },
  {
   "cell_type": "markdown",
   "source": [
    "### Data type replacement"
   ],
   "metadata": {
    "collapsed": false
   }
  },
  {
   "cell_type": "code",
   "execution_count": 33,
   "outputs": [
    {
     "data": {
      "text/plain": "children              int64\ndays_employed       float64\ndob_years             int64\neducation            object\neducation_id          int64\nfamily_status        object\nfamily_status_id      int64\ngender               object\nincome_type          object\ndebt                  int64\ntotal_income        float64\npurpose              object\ndtype: object"
     },
     "execution_count": 33,
     "metadata": {},
     "output_type": "execute_result"
    }
   ],
   "source": [
    "df.dtypes"
   ],
   "metadata": {
    "collapsed": false,
    "pycharm": {
     "name": "#%%\n"
    }
   }
  },
  {
   "cell_type": "code",
   "execution_count": 35,
   "outputs": [],
   "source": [
    "df[\"total_income\"] = df[\"total_income\"].astype('int')"
   ],
   "metadata": {
    "collapsed": false,
    "pycharm": {
     "name": "#%%\n"
    }
   }
  },
  {
   "cell_type": "code",
   "execution_count": 43,
   "outputs": [
    {
     "data": {
      "text/plain": "children              int64\ndays_employed       float64\ndob_years             int64\neducation            object\neducation_id          int64\nfamily_status        object\nfamily_status_id      int64\ngender               object\nincome_type          object\ndebt                  int64\ntotal_income          int64\npurpose              object\ndtype: object"
     },
     "execution_count": 43,
     "metadata": {},
     "output_type": "execute_result"
    }
   ],
   "source": [
    "df.dtypes"
   ],
   "metadata": {
    "collapsed": false,
    "pycharm": {
     "name": "#%%\n"
    }
   }
  },
  {
   "cell_type": "code",
   "execution_count": null,
   "outputs": [],
   "source": [],
   "metadata": {
    "collapsed": false,
    "pycharm": {
     "name": "#%%\n"
    }
   }
  },
  {
   "cell_type": "markdown",
   "source": [
    "### Conclusion\n"
   ],
   "metadata": {
    "collapsed": false,
    "pycharm": {
     "name": "#%% md\n"
    }
   }
  },
  {
   "cell_type": "markdown",
   "metadata": {},
   "source": [
    "### Processing duplicates"
   ]
  },
  {
   "cell_type": "code",
   "execution_count": 52,
   "outputs": [
    {
     "data": {
      "text/plain": "54"
     },
     "execution_count": 52,
     "metadata": {},
     "output_type": "execute_result"
    }
   ],
   "source": [
    "df.duplicated().sum()"
   ],
   "metadata": {
    "collapsed": false,
    "pycharm": {
     "name": "#%%\n"
    }
   }
  },
  {
   "cell_type": "code",
   "execution_count": 58,
   "outputs": [],
   "source": [
    "df.drop_duplicates(inplace = True)"
   ],
   "metadata": {
    "collapsed": false,
    "pycharm": {
     "name": "#%%\n"
    }
   }
  },
  {
   "cell_type": "code",
   "execution_count": 59,
   "outputs": [
    {
     "data": {
      "text/plain": "(21471, 12)"
     },
     "execution_count": 59,
     "metadata": {},
     "output_type": "execute_result"
    }
   ],
   "source": [
    "df.shape"
   ],
   "metadata": {
    "collapsed": false,
    "pycharm": {
     "name": "#%%\n"
    }
   }
  },
  {
   "cell_type": "markdown",
   "source": [
    "### Conclusion\n",
    "\n"
   ],
   "metadata": {
    "collapsed": false,
    "pycharm": {
     "name": "#%% md\n"
    }
   }
  },
  {
   "cell_type": "markdown",
   "metadata": {},
   "source": [
    "### Categorizing Data"
   ]
  },
  {
   "cell_type": "markdown",
   "source": [],
   "metadata": {
    "collapsed": false,
    "pycharm": {
     "name": "#%% md\n"
    }
   }
  },
  {
   "cell_type": "markdown",
   "source": [
    ">### <font color='orange'>Tavsiye: </font> Gelirlerine gore kateorilere ayirabilirsin burda (yani dusuk, orta, yuksek diye 3 kategori olabilir, 4-5'de yapabilirsin)."
   ],
   "metadata": {
    "collapsed": false,
    "pycharm": {
     "name": "#%% md\n",
     "is_executing": true
    }
   }
  },
  {
   "cell_type": "markdown",
   "source": [
    "### Conclusion\n"
   ],
   "metadata": {
    "collapsed": false,
    "pycharm": {
     "name": "#%% md\n"
    }
   }
  },
  {
   "cell_type": "markdown",
   "metadata": {},
   "source": [
    "## Answer these questions\n",
    "- Is there a connection between having kids and repaying a loan on time?\n",
    "- Is there a connection between marital status and repaying a loan on time?\n",
    "- Is there a connection between income level and repaying a loan on time?\n",
    "- How do different loan purposes affect on-time loan repayment?"
   ]
  },
  {
   "cell_type": "markdown",
   "source": [
    ">### <font color='orange'>Tavsiye: </font> Her soruyu yaparken ayri bi bashlik altinda yapabilirsin!"
   ],
   "metadata": {
    "collapsed": false,
    "pycharm": {
     "name": "#%% md\n"
    }
   }
  },
  {
   "cell_type": "code",
   "execution_count": 65,
   "outputs": [
    {
     "data": {
      "text/plain": "       children  debt\n0             1     0\n1             1     0\n2             0     0\n3             3     0\n4             0     0\n...         ...   ...\n21520         1     0\n21521         0     0\n21522         1     1\n21523         3     1\n21524         2     0\n\n[21471 rows x 2 columns]",
      "text/html": "<div>\n<style scoped>\n    .dataframe tbody tr th:only-of-type {\n        vertical-align: middle;\n    }\n\n    .dataframe tbody tr th {\n        vertical-align: top;\n    }\n\n    .dataframe thead th {\n        text-align: right;\n    }\n</style>\n<table border=\"1\" class=\"dataframe\">\n  <thead>\n    <tr style=\"text-align: right;\">\n      <th></th>\n      <th>children</th>\n      <th>debt</th>\n    </tr>\n  </thead>\n  <tbody>\n    <tr>\n      <th>0</th>\n      <td>1</td>\n      <td>0</td>\n    </tr>\n    <tr>\n      <th>1</th>\n      <td>1</td>\n      <td>0</td>\n    </tr>\n    <tr>\n      <th>2</th>\n      <td>0</td>\n      <td>0</td>\n    </tr>\n    <tr>\n      <th>3</th>\n      <td>3</td>\n      <td>0</td>\n    </tr>\n    <tr>\n      <th>4</th>\n      <td>0</td>\n      <td>0</td>\n    </tr>\n    <tr>\n      <th>...</th>\n      <td>...</td>\n      <td>...</td>\n    </tr>\n    <tr>\n      <th>21520</th>\n      <td>1</td>\n      <td>0</td>\n    </tr>\n    <tr>\n      <th>21521</th>\n      <td>0</td>\n      <td>0</td>\n    </tr>\n    <tr>\n      <th>21522</th>\n      <td>1</td>\n      <td>1</td>\n    </tr>\n    <tr>\n      <th>21523</th>\n      <td>3</td>\n      <td>1</td>\n    </tr>\n    <tr>\n      <th>21524</th>\n      <td>2</td>\n      <td>0</td>\n    </tr>\n  </tbody>\n</table>\n<p>21471 rows × 2 columns</p>\n</div>"
     },
     "execution_count": 65,
     "metadata": {},
     "output_type": "execute_result"
    }
   ],
   "source": [
    "dfc = df[[\"children\",\"debt\"]]\n",
    "dfc"
   ],
   "metadata": {
    "collapsed": false,
    "pycharm": {
     "name": "#%%\n"
    }
   }
  },
  {
   "cell_type": "markdown",
   "source": [
    ">### <font color='red'>Sorun: </font> -1 tane cocuk, veya 20 tane cocuk olan kisiler var, onlar gayet normal mi? yoksa hata falan olabilir mi? Eger hataysa nasil duzeltebiliriz?"
   ],
   "metadata": {
    "collapsed": false,
    "pycharm": {
     "name": "#%% md\n"
    }
   }
  },
  {
   "cell_type": "code",
   "execution_count": 67,
   "outputs": [
    {
     "data": {
      "text/plain": "<Figure size 432x288 with 1 Axes>",
      "image/png": "[encoded data removed]"
     },
     "metadata": {
      "needs_background": "light"
     },
     "output_type": "display_data"
    }
   ],
   "source": [
    "sns.barplot(x = \"children\", y = \"debt\", data = dfc);"
   ],
   "metadata": {
    "collapsed": false,
    "pycharm": {
     "name": "#%%\n"
    }
   }
  },
  {
   "cell_type": "markdown",
   "source": [
    ">### <font color='red'>Sorun: </font> Tum graphs icin gecerli: 1) plot_title eklenmesi lazim; 2) x and y axis label eklenmesi lazim; 3) kissadan hisse seklinde bir iki cumleyle graph'da neler gorebiliyorsun/ onu nasil yorumlarsin eklebeilir!"
   ],
   "metadata": {
    "collapsed": false,
    "pycharm": {
     "name": "#%% md\n"
    }
   }
  },
  {
   "cell_type": "code",
   "execution_count": 74,
   "outputs": [
    {
     "data": {
      "text/plain": "<Figure size 432x288 with 1 Axes>",
      "image/png": "[encoded data removed]"
     },
     "metadata": {
      "needs_background": "light"
     },
     "output_type": "display_data"
    }
   ],
   "source": [
    "sns.boxplot(x=\"children\", hue=\"debt\", data=dfc);"
   ],
   "metadata": {
    "collapsed": false,
    "pycharm": {
     "name": "#%%\n"
    }
   }
  },
  {
   "cell_type": "code",
   "execution_count": 73,
   "outputs": [
    {
     "name": "stderr",
     "output_type": "stream",
     "text": [
      "/Users/huseyintunc/opt/anaconda3/lib/python3.8/site-packages/seaborn/distributions.py:306: UserWarning: Dataset has 0 variance; skipping density estimate.\n",
      "  warnings.warn(msg, UserWarning)\n"
     ]
    },
    {
     "data": {
      "text/plain": "<Figure size 408.75x360 with 1 Axes>",
      "image/png": "[encoded data removed]"
     },
     "metadata": {
      "needs_background": "light"
     },
     "output_type": "display_data"
    }
   ],
   "source": [
    "(sns\n",
    " .FacetGrid(df,\n",
    "            hue = \"children\",\n",
    "            height = 5,\n",
    "            xlim = (0,0.1))\n",
    " .map(sns.kdeplot,\"debt\", shade = True)\n",
    " .add_legend()\n",
    " );"
   ],
   "metadata": {
    "collapsed": false,
    "pycharm": {
     "name": "#%%\n"
    }
   }
  },
  {
   "cell_type": "markdown",
   "source": [],
   "metadata": {
    "collapsed": false,
    "pycharm": {
     "name": "#%% md\n"
    }
   }
  },
  {
   "cell_type": "markdown",
   "source": [
    ">### <font color='green'>Guzel: </font> Bu graphí cok sevdim. Fakat, yukarida dedigim gibi -1 ve 20 falan duzeltildikten sonra x ve y oklarinin ne anlama geldigi, ve gorselden nasil bir sonuc cikardigimizi yazarsan super olur!"
   ],
   "metadata": {
    "collapsed": false,
    "pycharm": {
     "name": "#%% md\n",
     "is_executing": true
    }
   }
  },
  {
   "cell_type": "code",
   "execution_count": 63,
   "outputs": [
    {
     "data": {
      "text/plain": "               days_employed  dob_years  education  education_id  \\\nchildren debt                                                      \n-1       0                46         46         46            46   \n         1                 1          1          1             1   \n 0       0             13044      13044      13044         13044   \n         1              1063       1063       1063          1063   \n 1       0              4365       4365       4365          4365   \n         1               444        444        444           444   \n 2       0              1858       1858       1858          1858   \n         1               194        194        194           194   \n 3       0               303        303        303           303   \n         1                27         27         27            27   \n 4       0                37         37         37            37   \n         1                 4          4          4             4   \n 5       0                 9          9          9             9   \n 20      0                68         68         68            68   \n         1                 8          8          8             8   \n\n               family_status  family_status_id  gender  income_type  \\\nchildren debt                                                         \n-1       0                46                46      46           46   \n         1                 1                 1       1            1   \n 0       0             13044             13044   13044        13044   \n         1              1063              1063    1063         1063   \n 1       0              4365              4365    4365         4365   \n         1               444               444     444          444   \n 2       0              1858              1858    1858         1858   \n         1               194               194     194          194   \n 3       0               303               303     303          303   \n         1                27                27      27           27   \n 4       0                37                37      37           37   \n         1                 4                 4       4            4   \n 5       0                 9                 9       9            9   \n 20      0                68                68      68           68   \n         1                 8                 8       8            8   \n\n               total_income  purpose  \nchildren debt                         \n-1       0               46       46  \n         1                1        1  \n 0       0            13044    13044  \n         1             1063     1063  \n 1       0             4365     4365  \n         1              444      444  \n 2       0             1858     1858  \n         1              194      194  \n 3       0              303      303  \n         1               27       27  \n 4       0               37       37  \n         1                4        4  \n 5       0                9        9  \n 20      0               68       68  \n         1                8        8  ",
      "text/html": "<div>\n<style scoped>\n    .dataframe tbody tr th:only-of-type {\n        vertical-align: middle;\n    }\n\n    .dataframe tbody tr th {\n        vertical-align: top;\n    }\n\n    .dataframe thead th {\n        text-align: right;\n    }\n</style>\n<table border=\"1\" class=\"dataframe\">\n  <thead>\n    <tr style=\"text-align: right;\">\n      <th></th>\n      <th></th>\n      <th>days_employed</th>\n      <th>dob_years</th>\n      <th>education</th>\n      <th>education_id</th>\n      <th>family_status</th>\n      <th>family_status_id</th>\n      <th>gender</th>\n      <th>income_type</th>\n      <th>total_income</th>\n      <th>purpose</th>\n    </tr>\n    <tr>\n      <th>children</th>\n      <th>debt</th>\n      <th></th>\n      <th></th>\n      <th></th>\n      <th></th>\n      <th></th>\n      <th></th>\n      <th></th>\n      <th></th>\n      <th></th>\n      <th></th>\n    </tr>\n  </thead>\n  <tbody>\n    <tr>\n      <th rowspan=\"2\" valign=\"top\">-1</th>\n      <th>0</th>\n      <td>46</td>\n      <td>46</td>\n      <td>46</td>\n      <td>46</td>\n      <td>46</td>\n      <td>46</td>\n      <td>46</td>\n      <td>46</td>\n      <td>46</td>\n      <td>46</td>\n    </tr>\n    <tr>\n      <th>1</th>\n      <td>1</td>\n      <td>1</td>\n      <td>1</td>\n      <td>1</td>\n      <td>1</td>\n      <td>1</td>\n      <td>1</td>\n      <td>1</td>\n      <td>1</td>\n      <td>1</td>\n    </tr>\n    <tr>\n      <th rowspan=\"2\" valign=\"top\">0</th>\n      <th>0</th>\n      <td>13044</td>\n      <td>13044</td>\n      <td>13044</td>\n      <td>13044</td>\n      <td>13044</td>\n      <td>13044</td>\n      <td>13044</td>\n      <td>13044</td>\n      <td>13044</td>\n      <td>13044</td>\n    </tr>\n    <tr>\n      <th>1</th>\n      <td>1063</td>\n      <td>1063</td>\n      <td>1063</td>\n      <td>1063</td>\n      <td>1063</td>\n      <td>1063</td>\n      <td>1063</td>\n      <td>1063</td>\n      <td>1063</td>\n      <td>1063</td>\n    </tr>\n    <tr>\n      <th rowspan=\"2\" valign=\"top\">1</th>\n      <th>0</th>\n      <td>4365</td>\n      <td>4365</td>\n      <td>4365</td>\n      <td>4365</td>\n      <td>4365</td>\n      <td>4365</td>\n      <td>4365</td>\n      <td>4365</td>\n      <td>4365</td>\n      <td>4365</td>\n    </tr>\n    <tr>\n      <th>1</th>\n      <td>444</td>\n      <td>444</td>\n      <td>444</td>\n      <td>444</td>\n      <td>444</td>\n      <td>444</td>\n      <td>444</td>\n      <td>444</td>\n      <td>444</td>\n      <td>444</td>\n    </tr>\n    <tr>\n      <th rowspan=\"2\" valign=\"top\">2</th>\n      <th>0</th>\n      <td>1858</td>\n      <td>1858</td>\n      <td>1858</td>\n      <td>1858</td>\n      <td>1858</td>\n      <td>1858</td>\n      <td>1858</td>\n      <td>1858</td>\n      <td>1858</td>\n      <td>1858</td>\n    </tr>\n    <tr>\n      <th>1</th>\n      <td>194</td>\n      <td>194</td>\n      <td>194</td>\n      <td>194</td>\n      <td>194</td>\n      <td>194</td>\n      <td>194</td>\n      <td>194</td>\n      <td>194</td>\n      <td>194</td>\n    </tr>\n    <tr>\n      <th rowspan=\"2\" valign=\"top\">3</th>\n      <th>0</th>\n      <td>303</td>\n      <td>303</td>\n      <td>303</td>\n      <td>303</td>\n      <td>303</td>\n      <td>303</td>\n      <td>303</td>\n      <td>303</td>\n      <td>303</td>\n      <td>303</td>\n    </tr>\n    <tr>\n      <th>1</th>\n      <td>27</td>\n      <td>27</td>\n      <td>27</td>\n      <td>27</td>\n      <td>27</td>\n      <td>27</td>\n      <td>27</td>\n      <td>27</td>\n      <td>27</td>\n      <td>27</td>\n    </tr>\n    <tr>\n      <th rowspan=\"2\" valign=\"top\">4</th>\n      <th>0</th>\n      <td>37</td>\n      <td>37</td>\n      <td>37</td>\n      <td>37</td>\n      <td>37</td>\n      <td>37</td>\n      <td>37</td>\n      <td>37</td>\n      <td>37</td>\n      <td>37</td>\n    </tr>\n    <tr>\n      <th>1</th>\n      <td>4</td>\n      <td>4</td>\n      <td>4</td>\n      <td>4</td>\n      <td>4</td>\n      <td>4</td>\n      <td>4</td>\n      <td>4</td>\n      <td>4</td>\n      <td>4</td>\n    </tr>\n    <tr>\n      <th>5</th>\n      <th>0</th>\n      <td>9</td>\n      <td>9</td>\n      <td>9</td>\n      <td>9</td>\n      <td>9</td>\n      <td>9</td>\n      <td>9</td>\n      <td>9</td>\n      <td>9</td>\n      <td>9</td>\n    </tr>\n    <tr>\n      <th rowspan=\"2\" valign=\"top\">20</th>\n      <th>0</th>\n      <td>68</td>\n      <td>68</td>\n      <td>68</td>\n      <td>68</td>\n      <td>68</td>\n      <td>68</td>\n      <td>68</td>\n      <td>68</td>\n      <td>68</td>\n      <td>68</td>\n    </tr>\n    <tr>\n      <th>1</th>\n      <td>8</td>\n      <td>8</td>\n      <td>8</td>\n      <td>8</td>\n      <td>8</td>\n      <td>8</td>\n      <td>8</td>\n      <td>8</td>\n      <td>8</td>\n      <td>8</td>\n    </tr>\n  </tbody>\n</table>\n</div>"
     },
     "execution_count": 63,
     "metadata": {},
     "output_type": "execute_result"
    }
   ],
   "source": [
    "df.groupby([\"children\",\"debt\"]).count()"
   ],
   "metadata": {
    "collapsed": false,
    "pycharm": {
     "name": "#%%\n"
    }
   }
  },
  {
   "cell_type": "code",
   "execution_count": null,
   "outputs": [],
   "source": [],
   "metadata": {
    "collapsed": false,
    "pycharm": {
     "name": "#%%\n"
    }
   }
  },
  {
   "cell_type": "code",
   "execution_count": null,
   "outputs": [],
   "source": [],
   "metadata": {
    "collapsed": false,
    "pycharm": {
     "name": "#%%\n"
    }
   }
  },
  {
   "cell_type": "code",
   "execution_count": null,
   "outputs": [],
   "source": [],
   "metadata": {
    "collapsed": false,
    "pycharm": {
     "name": "#%%\n"
    }
   }
  },
  {
   "cell_type": "code",
   "execution_count": null,
   "outputs": [],
   "source": [],
   "metadata": {
    "collapsed": false,
    "pycharm": {
     "name": "#%%\n"
    }
   }
  },
  {
   "cell_type": "markdown",
   "source": [
    "### Conclusion\n"
   ],
   "metadata": {
    "collapsed": false,
    "pycharm": {
     "name": "#%% md\n"
    }
   }
  },
  {
   "cell_type": "markdown",
   "metadata": {},
   "source": [
    "## SUMMARY\n"
   ]
  },
  {
   "cell_type": "markdown",
   "metadata": {},
   "source": []
  },
  {
   "cell_type": "markdown",
   "metadata": {},
   "source": [
    "## Project Readiness Checklist\n",
    "\n",
    "Put 'x' in the completed points. Then press Shift + Enter."
   ]
  },
  {
   "cell_type": "markdown",
   "metadata": {},
   "source": [
    "- [x] file open;\n",
    "- [ ] file examined;\n",
    "- [ ] missing values defined;\n",
    "- [ ] missing values are filled;\n",
    "- [ ] an explanation of which missing value types were detected;\n",
    "- [ ] explanation for the possible causes of missing values;\n",
    "- [ ] an explanation of how the blanks are filled;\n",
    "- [ ] replaced the real data type with an integer;\n",
    "- [ ] an explanation of which method is used to change the data type and why;\n",
    "- [ ] duplicates deleted;\n",
    "- [ ] an explanation of which method is used to find and remove duplicates;\n",
    "- [ ] description of the possible reasons for the appearance of duplicates in the data;\n",
    "- [ ] data is categorized;\n",
    "- [ ] an explanation of the principle of data categorization;\n",
    "- [ ] an answer to the question \"Is there a relation between having kids and repaying a loan on time?\";\n",
    "- [ ] an answer to the question \" Is there a relation between marital status and repaying a loan on time?\";\n",
    "- [ ] an answer to the question \" Is there a relation between income level and repaying a loan on time?\";\n",
    "- [ ] an answer to the question \" How do different loan purposes affect on-time repayment of the loan?\"\n",
    "- [ ] conclusions are present on each stage;\n",
    "- [ ] a general conclusion is made."
   ]
  },
  {
   "cell_type": "code",
   "execution_count": 34,
   "outputs": [],
   "source": [],
   "metadata": {
    "collapsed": false,
    "pycharm": {
     "name": "#%%\n"
    }
   }
  }
 ],
 "metadata": {
  "kernelspec": {
   "display_name": "Python 3",
   "language": "python",
   "name": "python3"
  },
  "language_info": {
   "codemirror_mode": {
    "name": "ipython",
    "version": 3
   },
   "file_extension": ".py",
   "mimetype": "text/x-python",
   "name": "python",
   "nbconvert_exporter": "python",
   "pygments_lexer": "ipython3",
   "version": "3.8.5"
  },
  "toc": {
   "base_numbering": 1,
   "nav_menu": {},
   "number_sections": true,
   "sideBar": true,
   "skip_h1_title": true,
   "title_cell": "Table of Contents",
   "title_sidebar": "Contents",
   "toc_cell": false,
   "toc_position": {},
   "toc_section_display": true,
   "toc_window_display": false
  }
 },
 "nbformat": 4,
 "nbformat_minor": 2
}