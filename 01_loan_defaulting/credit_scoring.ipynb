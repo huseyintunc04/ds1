{
 "cells": [
  {
   "cell_type": "markdown",
   "source": [
    "## Problems:\n",
    "*"
   ],
   "metadata": {
    "collapsed": false,
    "pycharm": {
     "name": "#%% md\n"
    }
   }
  },
  {
   "cell_type": "markdown",
   "metadata": {},
   "source": [
    "## Open the data file and have a look at the general information."
   ]
  },
  {
   "cell_type": "code",
   "execution_count": 1,
   "outputs": [],
   "source": [
    "# We import the necessary libraries\n",
    "\n",
    "import pandas as pd; import numpy as np; import seaborn as sns; import matplotlib.pyplot as plt"
   ],
   "metadata": {
    "collapsed": false,
    "pycharm": {
     "name": "#%%\n"
    }
   }
  },
  {
   "cell_type": "code",
   "execution_count": 2,
   "outputs": [],
   "source": [
    "# We are reading our csv file named \"credit_scoring_eng.csv\"\n",
    "df = pd.read_csv(\"credit_scoring_eng.csv\")"
   ],
   "metadata": {
    "collapsed": false,
    "pycharm": {
     "name": "#%%\n"
    }
   }
  },
  {
   "cell_type": "code",
   "execution_count": 3,
   "outputs": [
    {
     "name": "stdout",
     "output_type": "stream",
     "text": [
      "<class 'pandas.core.frame.DataFrame'>\n",
      "RangeIndex: 21525 entries, 0 to 21524\n",
      "Data columns (total 12 columns):\n",
      " #   Column            Non-Null Count  Dtype  \n",
      "---  ------            --------------  -----  \n",
      " 0   children          21525 non-null  int64  \n",
      " 1   days_employed     19351 non-null  float64\n",
      " 2   dob_years         21525 non-null  int64  \n",
      " 3   education         21525 non-null  object \n",
      " 4   education_id      21525 non-null  int64  \n",
      " 5   family_status     21525 non-null  object \n",
      " 6   family_status_id  21525 non-null  int64  \n",
      " 7   gender            21525 non-null  object \n",
      " 8   income_type       21525 non-null  object \n",
      " 9   debt              21525 non-null  int64  \n",
      " 10  total_income      19351 non-null  float64\n",
      " 11  purpose           21525 non-null  object \n",
      "dtypes: float64(2), int64(5), object(5)\n",
      "memory usage: 2.0+ MB\n"
     ]
    }
   ],
   "source": [
    "#Let's look at the general information of our data\n",
    "df.info()"
   ],
   "metadata": {
    "collapsed": false,
    "pycharm": {
     "name": "#%%\n"
    }
   }
  },
  {
   "cell_type": "code",
   "execution_count": 30,
   "outputs": [
    {
     "data": {
      "text/plain": "(21525, 12)"
     },
     "execution_count": 30,
     "metadata": {},
     "output_type": "execute_result"
    }
   ],
   "source": [
    "#we look at matrix measures of data\n",
    "df.shape"
   ],
   "metadata": {
    "collapsed": false,
    "pycharm": {
     "name": "#%%\n"
    }
   }
  },
  {
   "cell_type": "code",
   "execution_count": 31,
   "outputs": [
    {
     "data": {
      "text/plain": "                    count          mean            std           min  \\\nchildren          21525.0      0.538908       1.381587     -1.000000   \ndays_employed     19351.0  63046.497661  140827.311974 -18388.949901   \ndob_years         21525.0     43.293380      12.574584      0.000000   \neducation_id      21525.0      0.817236       0.548138      0.000000   \nfamily_status_id  21525.0      0.972544       1.420324      0.000000   \ndebt              21525.0      0.080883       0.272661      0.000000   \ntotal_income      19351.0  26787.568355   16475.450632   3306.762000   \n\n                           25%           50%           75%            max  \nchildren              0.000000      0.000000      1.000000      20.000000  \ndays_employed     -2747.423625  -1203.369529   -291.095954  401755.400475  \ndob_years            33.000000     42.000000     53.000000      75.000000  \neducation_id          1.000000      1.000000      1.000000       4.000000  \nfamily_status_id      0.000000      0.000000      1.000000       4.000000  \ndebt                  0.000000      0.000000      0.000000       1.000000  \ntotal_income      16488.504500  23202.870000  32549.611000  362496.645000  ",
      "text/html": "<div>\n<style scoped>\n    .dataframe tbody tr th:only-of-type {\n        vertical-align: middle;\n    }\n\n    .dataframe tbody tr th {\n        vertical-align: top;\n    }\n\n    .dataframe thead th {\n        text-align: right;\n    }\n</style>\n<table border=\"1\" class=\"dataframe\">\n  <thead>\n    <tr style=\"text-align: right;\">\n      <th></th>\n      <th>count</th>\n      <th>mean</th>\n      <th>std</th>\n      <th>min</th>\n      <th>25%</th>\n      <th>50%</th>\n      <th>75%</th>\n      <th>max</th>\n    </tr>\n  </thead>\n  <tbody>\n    <tr>\n      <th>children</th>\n      <td>21525.0</td>\n      <td>0.538908</td>\n      <td>1.381587</td>\n      <td>-1.000000</td>\n      <td>0.000000</td>\n      <td>0.000000</td>\n      <td>1.000000</td>\n      <td>20.000000</td>\n    </tr>\n    <tr>\n      <th>days_employed</th>\n      <td>19351.0</td>\n      <td>63046.497661</td>\n      <td>140827.311974</td>\n      <td>-18388.949901</td>\n      <td>-2747.423625</td>\n      <td>-1203.369529</td>\n      <td>-291.095954</td>\n      <td>401755.400475</td>\n    </tr>\n    <tr>\n      <th>dob_years</th>\n      <td>21525.0</td>\n      <td>43.293380</td>\n      <td>12.574584</td>\n      <td>0.000000</td>\n      <td>33.000000</td>\n      <td>42.000000</td>\n      <td>53.000000</td>\n      <td>75.000000</td>\n    </tr>\n    <tr>\n      <th>education_id</th>\n      <td>21525.0</td>\n      <td>0.817236</td>\n      <td>0.548138</td>\n      <td>0.000000</td>\n      <td>1.000000</td>\n      <td>1.000000</td>\n      <td>1.000000</td>\n      <td>4.000000</td>\n    </tr>\n    <tr>\n      <th>family_status_id</th>\n      <td>21525.0</td>\n      <td>0.972544</td>\n      <td>1.420324</td>\n      <td>0.000000</td>\n      <td>0.000000</td>\n      <td>0.000000</td>\n      <td>1.000000</td>\n      <td>4.000000</td>\n    </tr>\n    <tr>\n      <th>debt</th>\n      <td>21525.0</td>\n      <td>0.080883</td>\n      <td>0.272661</td>\n      <td>0.000000</td>\n      <td>0.000000</td>\n      <td>0.000000</td>\n      <td>0.000000</td>\n      <td>1.000000</td>\n    </tr>\n    <tr>\n      <th>total_income</th>\n      <td>19351.0</td>\n      <td>26787.568355</td>\n      <td>16475.450632</td>\n      <td>3306.762000</td>\n      <td>16488.504500</td>\n      <td>23202.870000</td>\n      <td>32549.611000</td>\n      <td>362496.645000</td>\n    </tr>\n  </tbody>\n</table>\n</div>"
     },
     "execution_count": 31,
     "metadata": {},
     "output_type": "execute_result"
    }
   ],
   "source": [
    "# Let's look at the brief analysis of the columns:\n",
    "df.describe().T"
   ],
   "metadata": {
    "collapsed": false,
    "pycharm": {
     "name": "#%%\n"
    }
   }
  },
  {
   "cell_type": "markdown",
   "metadata": {
    "pycharm": {
     "name": "#%% md\n"
    }
   },
   "source": [
    "### Conclusion\n",
    "*"
   ]
  },
  {
   "cell_type": "markdown",
   "metadata": {},
   "source": [
    "## Data preprocessing"
   ]
  },
  {
   "cell_type": "markdown",
   "metadata": {},
   "source": [
    "### Processing missing values"
   ]
  },
  {
   "cell_type": "code",
   "execution_count": 32,
   "outputs": [
    {
     "data": {
      "text/plain": "   children  days_employed  dob_years            education  education_id  \\\n0         1   -8437.673028         42    bachelor's degree             0   \n1         1   -4024.803754         36  secondary education             1   \n2         0   -5623.422610         33  Secondary Education             1   \n3         3   -4124.747207         32  secondary education             1   \n4         0  340266.072047         53  secondary education             1   \n\n       family_status  family_status_id gender income_type  debt  total_income  \\\n0            married                 0      F    employee     0     40620.102   \n1            married                 0      F    employee     0     17932.802   \n2            married                 0      M    employee     0     23341.752   \n3            married                 0      M    employee     0     42820.568   \n4  civil partnership                 1      F     retiree     0     25378.572   \n\n                   purpose  \n0    purchase of the house  \n1             car purchase  \n2    purchase of the house  \n3  supplementary education  \n4        to have a wedding  ",
      "text/html": "<div>\n<style scoped>\n    .dataframe tbody tr th:only-of-type {\n        vertical-align: middle;\n    }\n\n    .dataframe tbody tr th {\n        vertical-align: top;\n    }\n\n    .dataframe thead th {\n        text-align: right;\n    }\n</style>\n<table border=\"1\" class=\"dataframe\">\n  <thead>\n    <tr style=\"text-align: right;\">\n      <th></th>\n      <th>children</th>\n      <th>days_employed</th>\n      <th>dob_years</th>\n      <th>education</th>\n      <th>education_id</th>\n      <th>family_status</th>\n      <th>family_status_id</th>\n      <th>gender</th>\n      <th>income_type</th>\n      <th>debt</th>\n      <th>total_income</th>\n      <th>purpose</th>\n    </tr>\n  </thead>\n  <tbody>\n    <tr>\n      <th>0</th>\n      <td>1</td>\n      <td>-8437.673028</td>\n      <td>42</td>\n      <td>bachelor's degree</td>\n      <td>0</td>\n      <td>married</td>\n      <td>0</td>\n      <td>F</td>\n      <td>employee</td>\n      <td>0</td>\n      <td>40620.102</td>\n      <td>purchase of the house</td>\n    </tr>\n    <tr>\n      <th>1</th>\n      <td>1</td>\n      <td>-4024.803754</td>\n      <td>36</td>\n      <td>secondary education</td>\n      <td>1</td>\n      <td>married</td>\n      <td>0</td>\n      <td>F</td>\n      <td>employee</td>\n      <td>0</td>\n      <td>17932.802</td>\n      <td>car purchase</td>\n    </tr>\n    <tr>\n      <th>2</th>\n      <td>0</td>\n      <td>-5623.422610</td>\n      <td>33</td>\n      <td>Secondary Education</td>\n      <td>1</td>\n      <td>married</td>\n      <td>0</td>\n      <td>M</td>\n      <td>employee</td>\n      <td>0</td>\n      <td>23341.752</td>\n      <td>purchase of the house</td>\n    </tr>\n    <tr>\n      <th>3</th>\n      <td>3</td>\n      <td>-4124.747207</td>\n      <td>32</td>\n      <td>secondary education</td>\n      <td>1</td>\n      <td>married</td>\n      <td>0</td>\n      <td>M</td>\n      <td>employee</td>\n      <td>0</td>\n      <td>42820.568</td>\n      <td>supplementary education</td>\n    </tr>\n    <tr>\n      <th>4</th>\n      <td>0</td>\n      <td>340266.072047</td>\n      <td>53</td>\n      <td>secondary education</td>\n      <td>1</td>\n      <td>civil partnership</td>\n      <td>1</td>\n      <td>F</td>\n      <td>retiree</td>\n      <td>0</td>\n      <td>25378.572</td>\n      <td>to have a wedding</td>\n    </tr>\n  </tbody>\n</table>\n</div>"
     },
     "execution_count": 32,
     "metadata": {},
     "output_type": "execute_result"
    }
   ],
   "source": [
    "df.head()"
   ],
   "metadata": {
    "collapsed": false,
    "pycharm": {
     "name": "#%%\n"
    }
   }
  },
  {
   "cell_type": "code",
   "execution_count": 33,
   "outputs": [],
   "source": [
    "#We are deleting some titles as they will not be useful to us.\n",
    "\n",
    "# df = df.drop(df.columns[[\"\",5]], axis=1)"
   ],
   "metadata": {
    "collapsed": false,
    "pycharm": {
     "name": "#%%\n"
    }
   }
  },
  {
   "cell_type": "code",
   "execution_count": 34,
   "outputs": [
    {
     "data": {
      "text/plain": "   children  days_employed  dob_years            education  education_id  \\\n0         1   -8437.673028         42    bachelor's degree             0   \n1         1   -4024.803754         36  secondary education             1   \n2         0   -5623.422610         33  Secondary Education             1   \n3         3   -4124.747207         32  secondary education             1   \n4         0  340266.072047         53  secondary education             1   \n\n       family_status  family_status_id gender income_type  debt  total_income  \\\n0            married                 0      F    employee     0     40620.102   \n1            married                 0      F    employee     0     17932.802   \n2            married                 0      M    employee     0     23341.752   \n3            married                 0      M    employee     0     42820.568   \n4  civil partnership                 1      F     retiree     0     25378.572   \n\n                   purpose  \n0    purchase of the house  \n1             car purchase  \n2    purchase of the house  \n3  supplementary education  \n4        to have a wedding  ",
      "text/html": "<div>\n<style scoped>\n    .dataframe tbody tr th:only-of-type {\n        vertical-align: middle;\n    }\n\n    .dataframe tbody tr th {\n        vertical-align: top;\n    }\n\n    .dataframe thead th {\n        text-align: right;\n    }\n</style>\n<table border=\"1\" class=\"dataframe\">\n  <thead>\n    <tr style=\"text-align: right;\">\n      <th></th>\n      <th>children</th>\n      <th>days_employed</th>\n      <th>dob_years</th>\n      <th>education</th>\n      <th>education_id</th>\n      <th>family_status</th>\n      <th>family_status_id</th>\n      <th>gender</th>\n      <th>income_type</th>\n      <th>debt</th>\n      <th>total_income</th>\n      <th>purpose</th>\n    </tr>\n  </thead>\n  <tbody>\n    <tr>\n      <th>0</th>\n      <td>1</td>\n      <td>-8437.673028</td>\n      <td>42</td>\n      <td>bachelor's degree</td>\n      <td>0</td>\n      <td>married</td>\n      <td>0</td>\n      <td>F</td>\n      <td>employee</td>\n      <td>0</td>\n      <td>40620.102</td>\n      <td>purchase of the house</td>\n    </tr>\n    <tr>\n      <th>1</th>\n      <td>1</td>\n      <td>-4024.803754</td>\n      <td>36</td>\n      <td>secondary education</td>\n      <td>1</td>\n      <td>married</td>\n      <td>0</td>\n      <td>F</td>\n      <td>employee</td>\n      <td>0</td>\n      <td>17932.802</td>\n      <td>car purchase</td>\n    </tr>\n    <tr>\n      <th>2</th>\n      <td>0</td>\n      <td>-5623.422610</td>\n      <td>33</td>\n      <td>Secondary Education</td>\n      <td>1</td>\n      <td>married</td>\n      <td>0</td>\n      <td>M</td>\n      <td>employee</td>\n      <td>0</td>\n      <td>23341.752</td>\n      <td>purchase of the house</td>\n    </tr>\n    <tr>\n      <th>3</th>\n      <td>3</td>\n      <td>-4124.747207</td>\n      <td>32</td>\n      <td>secondary education</td>\n      <td>1</td>\n      <td>married</td>\n      <td>0</td>\n      <td>M</td>\n      <td>employee</td>\n      <td>0</td>\n      <td>42820.568</td>\n      <td>supplementary education</td>\n    </tr>\n    <tr>\n      <th>4</th>\n      <td>0</td>\n      <td>340266.072047</td>\n      <td>53</td>\n      <td>secondary education</td>\n      <td>1</td>\n      <td>civil partnership</td>\n      <td>1</td>\n      <td>F</td>\n      <td>retiree</td>\n      <td>0</td>\n      <td>25378.572</td>\n      <td>to have a wedding</td>\n    </tr>\n  </tbody>\n</table>\n</div>"
     },
     "execution_count": 34,
     "metadata": {},
     "output_type": "execute_result"
    }
   ],
   "source": [
    "df.head()"
   ],
   "metadata": {
    "collapsed": false,
    "pycharm": {
     "name": "#%%\n"
    }
   }
  },
  {
   "cell_type": "code",
   "metadata": {
    "pycharm": {
     "name": "#%%\n"
    }
   },
   "source": [
    "#check for missing values\n",
    "df.isnull().values.any()"
   ],
   "execution_count": 35,
   "outputs": [
    {
     "data": {
      "text/plain": "True"
     },
     "execution_count": 35,
     "metadata": {},
     "output_type": "execute_result"
    }
   ]
  },
  {
   "cell_type": "code",
   "execution_count": 36,
   "outputs": [
    {
     "data": {
      "text/plain": "children               0\ndays_employed       2174\ndob_years              0\neducation              0\neducation_id           0\nfamily_status          0\nfamily_status_id       0\ngender                 0\nincome_type            0\ndebt                   0\ntotal_income        2174\npurpose                0\ndtype: int64"
     },
     "execution_count": 36,
     "metadata": {},
     "output_type": "execute_result"
    }
   ],
   "source": [
    "# which values?\n",
    "df.isnull().sum()"
   ],
   "metadata": {
    "collapsed": false,
    "pycharm": {
     "name": "#%%\n"
    }
   }
  },
  {
   "cell_type": "code",
   "execution_count": 37,
   "outputs": [],
   "source": [
    "# add a new category that we will classify according to income status\n",
    "kategori = []\n",
    "for i in df[\"total_income\"]:\n",
    "    if i < 17224:\n",
    "        kategori.append(\"low\")\n",
    "    elif i < 24976:\n",
    "        kategori.append(\"midle\")\n",
    "    elif i < 31320:\n",
    "        kategori.append(\"high\")\n",
    "    else:\n",
    "        kategori.append(\"rich\")\n"
   ],
   "metadata": {
    "collapsed": false,
    "pycharm": {
     "name": "#%%\n"
    }
   }
  },
  {
   "cell_type": "code",
   "execution_count": 38,
   "outputs": [
    {
     "data": {
      "text/plain": "21525"
     },
     "execution_count": 38,
     "metadata": {},
     "output_type": "execute_result"
    }
   ],
   "source": [
    "len(kategori)"
   ],
   "metadata": {
    "collapsed": false,
    "pycharm": {
     "name": "#%%\n"
    }
   }
  },
  {
   "cell_type": "code",
   "execution_count": 39,
   "outputs": [],
   "source": [
    "df[\"income_category\"]= kategori"
   ],
   "metadata": {
    "collapsed": false,
    "pycharm": {
     "name": "#%%\n"
    }
   }
  },
  {
   "cell_type": "code",
   "execution_count": 40,
   "outputs": [
    {
     "data": {
      "text/plain": "   children  days_employed  dob_years            education  education_id  \\\n0         1   -8437.673028         42    bachelor's degree             0   \n1         1   -4024.803754         36  secondary education             1   \n2         0   -5623.422610         33  Secondary Education             1   \n3         3   -4124.747207         32  secondary education             1   \n4         0  340266.072047         53  secondary education             1   \n\n       family_status  family_status_id gender income_type  debt  total_income  \\\n0            married                 0      F    employee     0     40620.102   \n1            married                 0      F    employee     0     17932.802   \n2            married                 0      M    employee     0     23341.752   \n3            married                 0      M    employee     0     42820.568   \n4  civil partnership                 1      F     retiree     0     25378.572   \n\n                   purpose income_category  \n0    purchase of the house            rich  \n1             car purchase           midle  \n2    purchase of the house           midle  \n3  supplementary education            rich  \n4        to have a wedding            high  ",
      "text/html": "<div>\n<style scoped>\n    .dataframe tbody tr th:only-of-type {\n        vertical-align: middle;\n    }\n\n    .dataframe tbody tr th {\n        vertical-align: top;\n    }\n\n    .dataframe thead th {\n        text-align: right;\n    }\n</style>\n<table border=\"1\" class=\"dataframe\">\n  <thead>\n    <tr style=\"text-align: right;\">\n      <th></th>\n      <th>children</th>\n      <th>days_employed</th>\n      <th>dob_years</th>\n      <th>education</th>\n      <th>education_id</th>\n      <th>family_status</th>\n      <th>family_status_id</th>\n      <th>gender</th>\n      <th>income_type</th>\n      <th>debt</th>\n      <th>total_income</th>\n      <th>purpose</th>\n      <th>income_category</th>\n    </tr>\n  </thead>\n  <tbody>\n    <tr>\n      <th>0</th>\n      <td>1</td>\n      <td>-8437.673028</td>\n      <td>42</td>\n      <td>bachelor's degree</td>\n      <td>0</td>\n      <td>married</td>\n      <td>0</td>\n      <td>F</td>\n      <td>employee</td>\n      <td>0</td>\n      <td>40620.102</td>\n      <td>purchase of the house</td>\n      <td>rich</td>\n    </tr>\n    <tr>\n      <th>1</th>\n      <td>1</td>\n      <td>-4024.803754</td>\n      <td>36</td>\n      <td>secondary education</td>\n      <td>1</td>\n      <td>married</td>\n      <td>0</td>\n      <td>F</td>\n      <td>employee</td>\n      <td>0</td>\n      <td>17932.802</td>\n      <td>car purchase</td>\n      <td>midle</td>\n    </tr>\n    <tr>\n      <th>2</th>\n      <td>0</td>\n      <td>-5623.422610</td>\n      <td>33</td>\n      <td>Secondary Education</td>\n      <td>1</td>\n      <td>married</td>\n      <td>0</td>\n      <td>M</td>\n      <td>employee</td>\n      <td>0</td>\n      <td>23341.752</td>\n      <td>purchase of the house</td>\n      <td>midle</td>\n    </tr>\n    <tr>\n      <th>3</th>\n      <td>3</td>\n      <td>-4124.747207</td>\n      <td>32</td>\n      <td>secondary education</td>\n      <td>1</td>\n      <td>married</td>\n      <td>0</td>\n      <td>M</td>\n      <td>employee</td>\n      <td>0</td>\n      <td>42820.568</td>\n      <td>supplementary education</td>\n      <td>rich</td>\n    </tr>\n    <tr>\n      <th>4</th>\n      <td>0</td>\n      <td>340266.072047</td>\n      <td>53</td>\n      <td>secondary education</td>\n      <td>1</td>\n      <td>civil partnership</td>\n      <td>1</td>\n      <td>F</td>\n      <td>retiree</td>\n      <td>0</td>\n      <td>25378.572</td>\n      <td>to have a wedding</td>\n      <td>high</td>\n    </tr>\n  </tbody>\n</table>\n</div>"
     },
     "execution_count": 40,
     "metadata": {},
     "output_type": "execute_result"
    }
   ],
   "source": [
    "df.head()"
   ],
   "metadata": {
    "collapsed": false,
    "pycharm": {
     "name": "#%%\n"
    }
   }
  },
  {
   "cell_type": "code",
   "execution_count": 41,
   "outputs": [
    {
     "data": {
      "text/plain": "                              children  days_employed  dob_years  education  \\\nincome_category total_income                                                  \nhigh            24976.853            1              1          1          1   \n                24978.041            1              1          1          1   \n                24979.222            1              1          1          1   \n                24980.993            1              1          1          1   \n                24983.260            1              1          1          1   \n...                                ...            ...        ...        ...   \nrich            273809.483           1              1          1          1   \n                274402.943           1              1          1          1   \n                276204.162           1              1          1          1   \n                352136.354           1              1          1          1   \n                362496.645           1              1          1          1   \n\n                              education_id  family_status  family_status_id  \\\nincome_category total_income                                                  \nhigh            24976.853                1              1                 1   \n                24978.041                1              1                 1   \n                24979.222                1              1                 1   \n                24980.993                1              1                 1   \n                24983.260                1              1                 1   \n...                                    ...            ...               ...   \nrich            273809.483               1              1                 1   \n                274402.943               1              1                 1   \n                276204.162               1              1                 1   \n                352136.354               1              1                 1   \n                362496.645               1              1                 1   \n\n                              gender  income_type  debt  purpose  \nincome_category total_income                                      \nhigh            24976.853          1            1     1        1  \n                24978.041          1            1     1        1  \n                24979.222          1            1     1        1  \n                24980.993          1            1     1        1  \n                24983.260          1            1     1        1  \n...                              ...          ...   ...      ...  \nrich            273809.483         1            1     1        1  \n                274402.943         1            1     1        1  \n                276204.162         1            1     1        1  \n                352136.354         1            1     1        1  \n                362496.645         1            1     1        1  \n\n[19348 rows x 11 columns]",
      "text/html": "<div>\n<style scoped>\n    .dataframe tbody tr th:only-of-type {\n        vertical-align: middle;\n    }\n\n    .dataframe tbody tr th {\n        vertical-align: top;\n    }\n\n    .dataframe thead th {\n        text-align: right;\n    }\n</style>\n<table border=\"1\" class=\"dataframe\">\n  <thead>\n    <tr style=\"text-align: right;\">\n      <th></th>\n      <th></th>\n      <th>children</th>\n      <th>days_employed</th>\n      <th>dob_years</th>\n      <th>education</th>\n      <th>education_id</th>\n      <th>family_status</th>\n      <th>family_status_id</th>\n      <th>gender</th>\n      <th>income_type</th>\n      <th>debt</th>\n      <th>purpose</th>\n    </tr>\n    <tr>\n      <th>income_category</th>\n      <th>total_income</th>\n      <th></th>\n      <th></th>\n      <th></th>\n      <th></th>\n      <th></th>\n      <th></th>\n      <th></th>\n      <th></th>\n      <th></th>\n      <th></th>\n      <th></th>\n    </tr>\n  </thead>\n  <tbody>\n    <tr>\n      <th rowspan=\"5\" valign=\"top\">high</th>\n      <th>24976.853</th>\n      <td>1</td>\n      <td>1</td>\n      <td>1</td>\n      <td>1</td>\n      <td>1</td>\n      <td>1</td>\n      <td>1</td>\n      <td>1</td>\n      <td>1</td>\n      <td>1</td>\n      <td>1</td>\n    </tr>\n    <tr>\n      <th>24978.041</th>\n      <td>1</td>\n      <td>1</td>\n      <td>1</td>\n      <td>1</td>\n      <td>1</td>\n      <td>1</td>\n      <td>1</td>\n      <td>1</td>\n      <td>1</td>\n      <td>1</td>\n      <td>1</td>\n    </tr>\n    <tr>\n      <th>24979.222</th>\n      <td>1</td>\n      <td>1</td>\n      <td>1</td>\n      <td>1</td>\n      <td>1</td>\n      <td>1</td>\n      <td>1</td>\n      <td>1</td>\n      <td>1</td>\n      <td>1</td>\n      <td>1</td>\n    </tr>\n    <tr>\n      <th>24980.993</th>\n      <td>1</td>\n      <td>1</td>\n      <td>1</td>\n      <td>1</td>\n      <td>1</td>\n      <td>1</td>\n      <td>1</td>\n      <td>1</td>\n      <td>1</td>\n      <td>1</td>\n      <td>1</td>\n    </tr>\n    <tr>\n      <th>24983.260</th>\n      <td>1</td>\n      <td>1</td>\n      <td>1</td>\n      <td>1</td>\n      <td>1</td>\n      <td>1</td>\n      <td>1</td>\n      <td>1</td>\n      <td>1</td>\n      <td>1</td>\n      <td>1</td>\n    </tr>\n    <tr>\n      <th>...</th>\n      <th>...</th>\n      <td>...</td>\n      <td>...</td>\n      <td>...</td>\n      <td>...</td>\n      <td>...</td>\n      <td>...</td>\n      <td>...</td>\n      <td>...</td>\n      <td>...</td>\n      <td>...</td>\n      <td>...</td>\n    </tr>\n    <tr>\n      <th rowspan=\"5\" valign=\"top\">rich</th>\n      <th>273809.483</th>\n      <td>1</td>\n      <td>1</td>\n      <td>1</td>\n      <td>1</td>\n      <td>1</td>\n      <td>1</td>\n      <td>1</td>\n      <td>1</td>\n      <td>1</td>\n      <td>1</td>\n      <td>1</td>\n    </tr>\n    <tr>\n      <th>274402.943</th>\n      <td>1</td>\n      <td>1</td>\n      <td>1</td>\n      <td>1</td>\n      <td>1</td>\n      <td>1</td>\n      <td>1</td>\n      <td>1</td>\n      <td>1</td>\n      <td>1</td>\n      <td>1</td>\n    </tr>\n    <tr>\n      <th>276204.162</th>\n      <td>1</td>\n      <td>1</td>\n      <td>1</td>\n      <td>1</td>\n      <td>1</td>\n      <td>1</td>\n      <td>1</td>\n      <td>1</td>\n      <td>1</td>\n      <td>1</td>\n      <td>1</td>\n    </tr>\n    <tr>\n      <th>352136.354</th>\n      <td>1</td>\n      <td>1</td>\n      <td>1</td>\n      <td>1</td>\n      <td>1</td>\n      <td>1</td>\n      <td>1</td>\n      <td>1</td>\n      <td>1</td>\n      <td>1</td>\n      <td>1</td>\n    </tr>\n    <tr>\n      <th>362496.645</th>\n      <td>1</td>\n      <td>1</td>\n      <td>1</td>\n      <td>1</td>\n      <td>1</td>\n      <td>1</td>\n      <td>1</td>\n      <td>1</td>\n      <td>1</td>\n      <td>1</td>\n      <td>1</td>\n    </tr>\n  </tbody>\n</table>\n<p>19348 rows × 11 columns</p>\n</div>"
     },
     "execution_count": 41,
     "metadata": {},
     "output_type": "execute_result"
    }
   ],
   "source": [
    "df.groupby([\"income_category\",\"total_income\"]).count()"
   ],
   "metadata": {
    "collapsed": false,
    "pycharm": {
     "name": "#%%\n"
    }
   }
  },
  {
   "cell_type": "code",
   "execution_count": 42,
   "outputs": [
    {
     "data": {
      "text/plain": "8        15337.093\n11       12331.077\n17       14465.694\n18        9091.804\n25        8818.041\n           ...    \n21507    15708.845\n21508    11622.175\n21509    11684.650\n21522    14347.610\n21524    13127.587\nName: total_income, Length: 5367, dtype: float64"
     },
     "execution_count": 42,
     "metadata": {},
     "output_type": "execute_result"
    }
   ],
   "source": [
    "df[df.income_category == \"low\"][\"total_income\"]"
   ],
   "metadata": {
    "collapsed": false,
    "pycharm": {
     "name": "#%%\n"
    }
   }
  },
  {
   "cell_type": "code",
   "execution_count": 43,
   "outputs": [
    {
     "data": {
      "text/plain": "       total_income  days_employed\n8         15337.093   -6929.865299\n11        12331.077    -792.701887\n17        14465.694   -2369.999720\n18         9091.804  400281.136913\n25         8818.041  363548.489348\n...             ...            ...\n21507     15708.845     -79.832064\n21508     11622.175  386497.714078\n21509     11684.650  362161.054124\n21522     14347.610   -2113.346888\n21524     13127.587   -1984.507589\n\n[5367 rows x 2 columns]",
      "text/html": "<div>\n<style scoped>\n    .dataframe tbody tr th:only-of-type {\n        vertical-align: middle;\n    }\n\n    .dataframe tbody tr th {\n        vertical-align: top;\n    }\n\n    .dataframe thead th {\n        text-align: right;\n    }\n</style>\n<table border=\"1\" class=\"dataframe\">\n  <thead>\n    <tr style=\"text-align: right;\">\n      <th></th>\n      <th>total_income</th>\n      <th>days_employed</th>\n    </tr>\n  </thead>\n  <tbody>\n    <tr>\n      <th>8</th>\n      <td>15337.093</td>\n      <td>-6929.865299</td>\n    </tr>\n    <tr>\n      <th>11</th>\n      <td>12331.077</td>\n      <td>-792.701887</td>\n    </tr>\n    <tr>\n      <th>17</th>\n      <td>14465.694</td>\n      <td>-2369.999720</td>\n    </tr>\n    <tr>\n      <th>18</th>\n      <td>9091.804</td>\n      <td>400281.136913</td>\n    </tr>\n    <tr>\n      <th>25</th>\n      <td>8818.041</td>\n      <td>363548.489348</td>\n    </tr>\n    <tr>\n      <th>...</th>\n      <td>...</td>\n      <td>...</td>\n    </tr>\n    <tr>\n      <th>21507</th>\n      <td>15708.845</td>\n      <td>-79.832064</td>\n    </tr>\n    <tr>\n      <th>21508</th>\n      <td>11622.175</td>\n      <td>386497.714078</td>\n    </tr>\n    <tr>\n      <th>21509</th>\n      <td>11684.650</td>\n      <td>362161.054124</td>\n    </tr>\n    <tr>\n      <th>21522</th>\n      <td>14347.610</td>\n      <td>-2113.346888</td>\n    </tr>\n    <tr>\n      <th>21524</th>\n      <td>13127.587</td>\n      <td>-1984.507589</td>\n    </tr>\n  </tbody>\n</table>\n<p>5367 rows × 2 columns</p>\n</div>"
     },
     "execution_count": 43,
     "metadata": {},
     "output_type": "execute_result"
    }
   ],
   "source": [
    "df.loc[(df.income_category == \"low\"), [\"total_income\",\"days_employed\"]]"
   ],
   "metadata": {
    "collapsed": false,
    "pycharm": {
     "name": "#%%\n"
    }
   }
  },
  {
   "cell_type": "code",
   "execution_count": 44,
   "outputs": [
    {
     "data": {
      "text/plain": "                 children  days_employed  dob_years  education_id  \\\nincome_category                                                     \nhigh             0.509701   49970.205671  42.487527      0.801047   \nlow              0.498230   96843.876830  44.734861      0.925284   \nmidle            0.562034   61716.894901  43.116617      0.849478   \nrich             0.563967   38499.187867  42.740422      0.724380   \n\n                 family_status_id      debt  total_income  \nincome_category                                            \nhigh                     0.951648  0.089929  27827.019291  \nlow                      0.973169  0.079560  12953.017963  \nmidle                    1.001863  0.087370  20948.578546  \nrich                     0.960228  0.073313  45826.240743  ",
      "text/html": "<div>\n<style scoped>\n    .dataframe tbody tr th:only-of-type {\n        vertical-align: middle;\n    }\n\n    .dataframe tbody tr th {\n        vertical-align: top;\n    }\n\n    .dataframe thead th {\n        text-align: right;\n    }\n</style>\n<table border=\"1\" class=\"dataframe\">\n  <thead>\n    <tr style=\"text-align: right;\">\n      <th></th>\n      <th>children</th>\n      <th>days_employed</th>\n      <th>dob_years</th>\n      <th>education_id</th>\n      <th>family_status_id</th>\n      <th>debt</th>\n      <th>total_income</th>\n    </tr>\n    <tr>\n      <th>income_category</th>\n      <th></th>\n      <th></th>\n      <th></th>\n      <th></th>\n      <th></th>\n      <th></th>\n      <th></th>\n    </tr>\n  </thead>\n  <tbody>\n    <tr>\n      <th>high</th>\n      <td>0.509701</td>\n      <td>49970.205671</td>\n      <td>42.487527</td>\n      <td>0.801047</td>\n      <td>0.951648</td>\n      <td>0.089929</td>\n      <td>27827.019291</td>\n    </tr>\n    <tr>\n      <th>low</th>\n      <td>0.498230</td>\n      <td>96843.876830</td>\n      <td>44.734861</td>\n      <td>0.925284</td>\n      <td>0.973169</td>\n      <td>0.079560</td>\n      <td>12953.017963</td>\n    </tr>\n    <tr>\n      <th>midle</th>\n      <td>0.562034</td>\n      <td>61716.894901</td>\n      <td>43.116617</td>\n      <td>0.849478</td>\n      <td>1.001863</td>\n      <td>0.087370</td>\n      <td>20948.578546</td>\n    </tr>\n    <tr>\n      <th>rich</th>\n      <td>0.563967</td>\n      <td>38499.187867</td>\n      <td>42.740422</td>\n      <td>0.724380</td>\n      <td>0.960228</td>\n      <td>0.073313</td>\n      <td>45826.240743</td>\n    </tr>\n  </tbody>\n</table>\n</div>"
     },
     "execution_count": 44,
     "metadata": {},
     "output_type": "execute_result"
    }
   ],
   "source": [
    "df.groupby(\"income_category\").mean()"
   ],
   "metadata": {
    "collapsed": false,
    "pycharm": {
     "name": "#%%\n"
    }
   }
  },
  {
   "cell_type": "code",
   "execution_count": 45,
   "outputs": [
    {
     "data": {
      "text/plain": "children               0\ndays_employed       2174\ndob_years              0\neducation              0\neducation_id           0\nfamily_status          0\nfamily_status_id       0\ngender                 0\nincome_type            0\ndebt                   0\ntotal_income        2174\npurpose                0\nincome_category        0\ndtype: int64"
     },
     "execution_count": 45,
     "metadata": {},
     "output_type": "execute_result"
    }
   ],
   "source": [
    "df.isnull().sum()"
   ],
   "metadata": {
    "collapsed": false,
    "pycharm": {
     "name": "#%%\n"
    }
   }
  },
  {
   "cell_type": "markdown",
   "source": [
    "### Conclusion\n",
    "\n"
   ],
   "metadata": {
    "collapsed": false
   }
  },
  {
   "cell_type": "markdown",
   "source": [
    "### Data type replacement"
   ],
   "metadata": {
    "collapsed": false
   }
  },
  {
   "cell_type": "code",
   "execution_count": 46,
   "outputs": [
    {
     "data": {
      "text/plain": "children              int64\ndays_employed       float64\ndob_years             int64\neducation            object\neducation_id          int64\nfamily_status        object\nfamily_status_id      int64\ngender               object\nincome_type          object\ndebt                  int64\ntotal_income        float64\npurpose              object\nincome_category      object\ndtype: object"
     },
     "execution_count": 46,
     "metadata": {},
     "output_type": "execute_result"
    }
   ],
   "source": [
    "df.dtypes"
   ],
   "metadata": {
    "collapsed": false,
    "pycharm": {
     "name": "#%%\n"
    }
   }
  },
  {
   "cell_type": "code",
   "execution_count": 47,
   "outputs": [
    {
     "data": {
      "text/plain": "count     19351.000000\nmean      26787.568355\nstd       16475.450632\nmin        3306.762000\n25%       16488.504500\n50%       23202.870000\n75%       32549.611000\nmax      362496.645000\nName: total_income, dtype: float64"
     },
     "execution_count": 47,
     "metadata": {},
     "output_type": "execute_result"
    }
   ],
   "source": [
    "df[\"total_income\"].describe()"
   ],
   "metadata": {
    "collapsed": false,
    "pycharm": {
     "name": "#%%\n"
    }
   }
  },
  {
   "cell_type": "code",
   "execution_count": 48,
   "outputs": [
    {
     "ename": "ValueError",
     "evalue": "Cannot convert non-finite values (NA or inf) to integer",
     "output_type": "error",
     "traceback": [
      "\u001B[0;31m---------------------------------------------------------------------------\u001B[0m",
      "\u001B[0;31mValueError\u001B[0m                                Traceback (most recent call last)",
      "\u001B[0;32m<ipython-input-48-fb114fbfcc7b>\u001B[0m in \u001B[0;36m<module>\u001B[0;34m\u001B[0m\n\u001B[0;32m----> 1\u001B[0;31m \u001B[0mdf\u001B[0m\u001B[0;34m[\u001B[0m\u001B[0;34m\"total_income\"\u001B[0m\u001B[0;34m]\u001B[0m \u001B[0;34m=\u001B[0m \u001B[0mdf\u001B[0m\u001B[0;34m[\u001B[0m\u001B[0;34m\"total_income\"\u001B[0m\u001B[0;34m]\u001B[0m\u001B[0;34m.\u001B[0m\u001B[0mastype\u001B[0m\u001B[0;34m(\u001B[0m\u001B[0;34m'int'\u001B[0m\u001B[0;34m)\u001B[0m\u001B[0;34m\u001B[0m\u001B[0;34m\u001B[0m\u001B[0m\n\u001B[0m",
      "\u001B[0;32m~/opt/anaconda3/lib/python3.8/site-packages/pandas/core/generic.py\u001B[0m in \u001B[0;36mastype\u001B[0;34m(self, dtype, copy, errors)\u001B[0m\n\u001B[1;32m   5875\u001B[0m         \u001B[0;32melse\u001B[0m\u001B[0;34m:\u001B[0m\u001B[0;34m\u001B[0m\u001B[0;34m\u001B[0m\u001B[0m\n\u001B[1;32m   5876\u001B[0m             \u001B[0;31m# else, only a single dtype is given\u001B[0m\u001B[0;34m\u001B[0m\u001B[0;34m\u001B[0m\u001B[0;34m\u001B[0m\u001B[0m\n\u001B[0;32m-> 5877\u001B[0;31m             \u001B[0mnew_data\u001B[0m \u001B[0;34m=\u001B[0m \u001B[0mself\u001B[0m\u001B[0;34m.\u001B[0m\u001B[0m_mgr\u001B[0m\u001B[0;34m.\u001B[0m\u001B[0mastype\u001B[0m\u001B[0;34m(\u001B[0m\u001B[0mdtype\u001B[0m\u001B[0;34m=\u001B[0m\u001B[0mdtype\u001B[0m\u001B[0;34m,\u001B[0m \u001B[0mcopy\u001B[0m\u001B[0;34m=\u001B[0m\u001B[0mcopy\u001B[0m\u001B[0;34m,\u001B[0m \u001B[0merrors\u001B[0m\u001B[0;34m=\u001B[0m\u001B[0merrors\u001B[0m\u001B[0;34m)\u001B[0m\u001B[0;34m\u001B[0m\u001B[0;34m\u001B[0m\u001B[0m\n\u001B[0m\u001B[1;32m   5878\u001B[0m             \u001B[0;32mreturn\u001B[0m \u001B[0mself\u001B[0m\u001B[0;34m.\u001B[0m\u001B[0m_constructor\u001B[0m\u001B[0;34m(\u001B[0m\u001B[0mnew_data\u001B[0m\u001B[0;34m)\u001B[0m\u001B[0;34m.\u001B[0m\u001B[0m__finalize__\u001B[0m\u001B[0;34m(\u001B[0m\u001B[0mself\u001B[0m\u001B[0;34m,\u001B[0m \u001B[0mmethod\u001B[0m\u001B[0;34m=\u001B[0m\u001B[0;34m\"astype\"\u001B[0m\u001B[0;34m)\u001B[0m\u001B[0;34m\u001B[0m\u001B[0;34m\u001B[0m\u001B[0m\n\u001B[1;32m   5879\u001B[0m \u001B[0;34m\u001B[0m\u001B[0m\n",
      "\u001B[0;32m~/opt/anaconda3/lib/python3.8/site-packages/pandas/core/internals/managers.py\u001B[0m in \u001B[0;36mastype\u001B[0;34m(self, dtype, copy, errors)\u001B[0m\n\u001B[1;32m    629\u001B[0m         \u001B[0mself\u001B[0m\u001B[0;34m,\u001B[0m \u001B[0mdtype\u001B[0m\u001B[0;34m,\u001B[0m \u001B[0mcopy\u001B[0m\u001B[0;34m:\u001B[0m \u001B[0mbool\u001B[0m \u001B[0;34m=\u001B[0m \u001B[0;32mFalse\u001B[0m\u001B[0;34m,\u001B[0m \u001B[0merrors\u001B[0m\u001B[0;34m:\u001B[0m \u001B[0mstr\u001B[0m \u001B[0;34m=\u001B[0m \u001B[0;34m\"raise\"\u001B[0m\u001B[0;34m\u001B[0m\u001B[0;34m\u001B[0m\u001B[0m\n\u001B[1;32m    630\u001B[0m     ) -> \"BlockManager\":\n\u001B[0;32m--> 631\u001B[0;31m         \u001B[0;32mreturn\u001B[0m \u001B[0mself\u001B[0m\u001B[0;34m.\u001B[0m\u001B[0mapply\u001B[0m\u001B[0;34m(\u001B[0m\u001B[0;34m\"astype\"\u001B[0m\u001B[0;34m,\u001B[0m \u001B[0mdtype\u001B[0m\u001B[0;34m=\u001B[0m\u001B[0mdtype\u001B[0m\u001B[0;34m,\u001B[0m \u001B[0mcopy\u001B[0m\u001B[0;34m=\u001B[0m\u001B[0mcopy\u001B[0m\u001B[0;34m,\u001B[0m \u001B[0merrors\u001B[0m\u001B[0;34m=\u001B[0m\u001B[0merrors\u001B[0m\u001B[0;34m)\u001B[0m\u001B[0;34m\u001B[0m\u001B[0;34m\u001B[0m\u001B[0m\n\u001B[0m\u001B[1;32m    632\u001B[0m \u001B[0;34m\u001B[0m\u001B[0m\n\u001B[1;32m    633\u001B[0m     def convert(\n",
      "\u001B[0;32m~/opt/anaconda3/lib/python3.8/site-packages/pandas/core/internals/managers.py\u001B[0m in \u001B[0;36mapply\u001B[0;34m(self, f, align_keys, ignore_failures, **kwargs)\u001B[0m\n\u001B[1;32m    425\u001B[0m                     \u001B[0mapplied\u001B[0m \u001B[0;34m=\u001B[0m \u001B[0mb\u001B[0m\u001B[0;34m.\u001B[0m\u001B[0mapply\u001B[0m\u001B[0;34m(\u001B[0m\u001B[0mf\u001B[0m\u001B[0;34m,\u001B[0m \u001B[0;34m**\u001B[0m\u001B[0mkwargs\u001B[0m\u001B[0;34m)\u001B[0m\u001B[0;34m\u001B[0m\u001B[0;34m\u001B[0m\u001B[0m\n\u001B[1;32m    426\u001B[0m                 \u001B[0;32melse\u001B[0m\u001B[0;34m:\u001B[0m\u001B[0;34m\u001B[0m\u001B[0;34m\u001B[0m\u001B[0m\n\u001B[0;32m--> 427\u001B[0;31m                     \u001B[0mapplied\u001B[0m \u001B[0;34m=\u001B[0m \u001B[0mgetattr\u001B[0m\u001B[0;34m(\u001B[0m\u001B[0mb\u001B[0m\u001B[0;34m,\u001B[0m \u001B[0mf\u001B[0m\u001B[0;34m)\u001B[0m\u001B[0;34m(\u001B[0m\u001B[0;34m**\u001B[0m\u001B[0mkwargs\u001B[0m\u001B[0;34m)\u001B[0m\u001B[0;34m\u001B[0m\u001B[0;34m\u001B[0m\u001B[0m\n\u001B[0m\u001B[1;32m    428\u001B[0m             \u001B[0;32mexcept\u001B[0m \u001B[0;34m(\u001B[0m\u001B[0mTypeError\u001B[0m\u001B[0;34m,\u001B[0m \u001B[0mNotImplementedError\u001B[0m\u001B[0;34m)\u001B[0m\u001B[0;34m:\u001B[0m\u001B[0;34m\u001B[0m\u001B[0;34m\u001B[0m\u001B[0m\n\u001B[1;32m    429\u001B[0m                 \u001B[0;32mif\u001B[0m \u001B[0;32mnot\u001B[0m \u001B[0mignore_failures\u001B[0m\u001B[0;34m:\u001B[0m\u001B[0;34m\u001B[0m\u001B[0;34m\u001B[0m\u001B[0m\n",
      "\u001B[0;32m~/opt/anaconda3/lib/python3.8/site-packages/pandas/core/internals/blocks.py\u001B[0m in \u001B[0;36mastype\u001B[0;34m(self, dtype, copy, errors)\u001B[0m\n\u001B[1;32m    671\u001B[0m             \u001B[0mvals1d\u001B[0m \u001B[0;34m=\u001B[0m \u001B[0mvalues\u001B[0m\u001B[0;34m.\u001B[0m\u001B[0mravel\u001B[0m\u001B[0;34m(\u001B[0m\u001B[0;34m)\u001B[0m\u001B[0;34m\u001B[0m\u001B[0;34m\u001B[0m\u001B[0m\n\u001B[1;32m    672\u001B[0m             \u001B[0;32mtry\u001B[0m\u001B[0;34m:\u001B[0m\u001B[0;34m\u001B[0m\u001B[0;34m\u001B[0m\u001B[0m\n\u001B[0;32m--> 673\u001B[0;31m                 \u001B[0mvalues\u001B[0m \u001B[0;34m=\u001B[0m \u001B[0mastype_nansafe\u001B[0m\u001B[0;34m(\u001B[0m\u001B[0mvals1d\u001B[0m\u001B[0;34m,\u001B[0m \u001B[0mdtype\u001B[0m\u001B[0;34m,\u001B[0m \u001B[0mcopy\u001B[0m\u001B[0;34m=\u001B[0m\u001B[0;32mTrue\u001B[0m\u001B[0;34m)\u001B[0m\u001B[0;34m\u001B[0m\u001B[0;34m\u001B[0m\u001B[0m\n\u001B[0m\u001B[1;32m    674\u001B[0m             \u001B[0;32mexcept\u001B[0m \u001B[0;34m(\u001B[0m\u001B[0mValueError\u001B[0m\u001B[0;34m,\u001B[0m \u001B[0mTypeError\u001B[0m\u001B[0;34m)\u001B[0m\u001B[0;34m:\u001B[0m\u001B[0;34m\u001B[0m\u001B[0;34m\u001B[0m\u001B[0m\n\u001B[1;32m    675\u001B[0m                 \u001B[0;31m# e.g. astype_nansafe can fail on object-dtype of strings\u001B[0m\u001B[0;34m\u001B[0m\u001B[0;34m\u001B[0m\u001B[0;34m\u001B[0m\u001B[0m\n",
      "\u001B[0;32m~/opt/anaconda3/lib/python3.8/site-packages/pandas/core/dtypes/cast.py\u001B[0m in \u001B[0;36mastype_nansafe\u001B[0;34m(arr, dtype, copy, skipna)\u001B[0m\n\u001B[1;32m   1066\u001B[0m \u001B[0;34m\u001B[0m\u001B[0m\n\u001B[1;32m   1067\u001B[0m         \u001B[0;32mif\u001B[0m \u001B[0;32mnot\u001B[0m \u001B[0mnp\u001B[0m\u001B[0;34m.\u001B[0m\u001B[0misfinite\u001B[0m\u001B[0;34m(\u001B[0m\u001B[0marr\u001B[0m\u001B[0;34m)\u001B[0m\u001B[0;34m.\u001B[0m\u001B[0mall\u001B[0m\u001B[0;34m(\u001B[0m\u001B[0;34m)\u001B[0m\u001B[0;34m:\u001B[0m\u001B[0;34m\u001B[0m\u001B[0;34m\u001B[0m\u001B[0m\n\u001B[0;32m-> 1068\u001B[0;31m             \u001B[0;32mraise\u001B[0m \u001B[0mValueError\u001B[0m\u001B[0;34m(\u001B[0m\u001B[0;34m\"Cannot convert non-finite values (NA or inf) to integer\"\u001B[0m\u001B[0;34m)\u001B[0m\u001B[0;34m\u001B[0m\u001B[0;34m\u001B[0m\u001B[0m\n\u001B[0m\u001B[1;32m   1069\u001B[0m \u001B[0;34m\u001B[0m\u001B[0m\n\u001B[1;32m   1070\u001B[0m     \u001B[0;32melif\u001B[0m \u001B[0mis_object_dtype\u001B[0m\u001B[0;34m(\u001B[0m\u001B[0marr\u001B[0m\u001B[0;34m)\u001B[0m\u001B[0;34m:\u001B[0m\u001B[0;34m\u001B[0m\u001B[0;34m\u001B[0m\u001B[0m\n",
      "\u001B[0;31mValueError\u001B[0m: Cannot convert non-finite values (NA or inf) to integer"
     ]
    }
   ],
   "source": [
    "df[\"total_income\"] = df[\"total_income\"].astype('int')"
   ],
   "metadata": {
    "collapsed": false,
    "pycharm": {
     "name": "#%%\n"
    }
   }
  },
  {
   "cell_type": "code",
   "execution_count": 49,
   "outputs": [
    {
     "data": {
      "text/plain": "children              int64\ndays_employed       float64\ndob_years             int64\neducation            object\neducation_id          int64\nfamily_status        object\nfamily_status_id      int64\ngender               object\nincome_type          object\ndebt                  int64\ntotal_income        float64\npurpose              object\nincome_category      object\ndtype: object"
     },
     "execution_count": 49,
     "metadata": {},
     "output_type": "execute_result"
    }
   ],
   "source": [
    "df.dtypes"
   ],
   "metadata": {
    "collapsed": false,
    "pycharm": {
     "name": "#%%\n"
    }
   }
  },
  {
   "cell_type": "code",
   "execution_count": 49,
   "outputs": [],
   "source": [],
   "metadata": {
    "collapsed": false,
    "pycharm": {
     "name": "#%%\n"
    }
   }
  },
  {
   "cell_type": "markdown",
   "source": [
    "### Conclusion\n"
   ],
   "metadata": {
    "collapsed": false,
    "pycharm": {
     "name": "#%% md\n"
    }
   }
  },
  {
   "cell_type": "markdown",
   "metadata": {},
   "source": [
    "### Processing duplicates"
   ]
  },
  {
   "cell_type": "code",
   "execution_count": 50,
   "outputs": [
    {
     "data": {
      "text/plain": "54"
     },
     "execution_count": 50,
     "metadata": {},
     "output_type": "execute_result"
    }
   ],
   "source": [
    "df.duplicated().sum()"
   ],
   "metadata": {
    "collapsed": false,
    "pycharm": {
     "name": "#%%\n"
    }
   }
  },
  {
   "cell_type": "code",
   "execution_count": 51,
   "outputs": [],
   "source": [
    "df.drop_duplicates(inplace = True)"
   ],
   "metadata": {
    "collapsed": false,
    "pycharm": {
     "name": "#%%\n"
    }
   }
  },
  {
   "cell_type": "code",
   "execution_count": 52,
   "outputs": [
    {
     "data": {
      "text/plain": "(21471, 13)"
     },
     "execution_count": 52,
     "metadata": {},
     "output_type": "execute_result"
    }
   ],
   "source": [
    "df.shape"
   ],
   "metadata": {
    "collapsed": false,
    "pycharm": {
     "name": "#%%\n"
    }
   }
  },
  {
   "cell_type": "markdown",
   "source": [
    "### Conclusion\n",
    "\n"
   ],
   "metadata": {
    "collapsed": false,
    "pycharm": {
     "name": "#%% md\n"
    }
   }
  },
  {
   "cell_type": "markdown",
   "metadata": {},
   "source": [
    "### Categorizing Data"
   ]
  },
  {
   "cell_type": "markdown",
   "source": [],
   "metadata": {
    "collapsed": false,
    "pycharm": {
     "name": "#%% md\n"
    }
   }
  },
  {
   "cell_type": "markdown",
   "source": [
    ">### <font color='orange'>Tavsiye: </font> Gelirlerine gore kateorilere ayirabilirsin burda (yani dusuk, orta, yuksek diye 3 kategori olabilir, 4-5'de yapabilirsin)."
   ],
   "metadata": {
    "collapsed": false,
    "pycharm": {
     "name": "#%% md\n"
    }
   }
  },
  {
   "cell_type": "code",
   "execution_count": 53,
   "outputs": [
    {
     "data": {
      "text/plain": "       children  days_employed  dob_years            education  education_id  \\\n1             1   -4024.803754         36  secondary education             1   \n2             0   -5623.422610         33  Secondary Education             1   \n7             0    -152.779569         50  SECONDARY EDUCATION             1   \n9             0   -2188.756445         41  secondary education             1   \n10            2   -4171.483647         36    bachelor's degree             0   \n...         ...            ...        ...                  ...           ...   \n21493         1   -1214.858885         38  secondary education             1   \n21496         1    -759.680851         31  secondary education             1   \n21515         1    -467.685130         28  secondary education             1   \n21518         0  373995.710838         59  SECONDARY EDUCATION             1   \n21521         0  343937.404131         67  secondary education             1   \n\n      family_status  family_status_id gender income_type  debt  total_income  \\\n1           married                 0      F    employee     0     17932.802   \n2           married                 0      M    employee     0     23341.752   \n7           married                 0      M    employee     0     21731.829   \n9           married                 0      M    employee     0     23108.150   \n10          married                 0      M    business     0     18230.959   \n...             ...               ...    ...         ...   ...           ...   \n21493       married                 0      F    employee     0     23600.416   \n21496       married                 0      F    employee     0     19102.819   \n21515       married                 0      F    employee     1     17517.812   \n21518       married                 0      F     retiree     0     24618.344   \n21521       married                 0      F     retiree     0     24959.969   \n\n                                   purpose income_category  \n1                             car purchase           midle  \n2                    purchase of the house           midle  \n7                                education           midle  \n9      purchase of the house for my family           midle  \n10                         buy real estate           midle  \n...                                    ...             ...  \n21493  purchase of the house for my family           midle  \n21496                         to buy a car           midle  \n21515                   to become educated           midle  \n21518                    purchase of a car           midle  \n21521                    purchase of a car           midle  \n\n[3035 rows x 13 columns]",
      "text/html": "<div>\n<style scoped>\n    .dataframe tbody tr th:only-of-type {\n        vertical-align: middle;\n    }\n\n    .dataframe tbody tr th {\n        vertical-align: top;\n    }\n\n    .dataframe thead th {\n        text-align: right;\n    }\n</style>\n<table border=\"1\" class=\"dataframe\">\n  <thead>\n    <tr style=\"text-align: right;\">\n      <th></th>\n      <th>children</th>\n      <th>days_employed</th>\n      <th>dob_years</th>\n      <th>education</th>\n      <th>education_id</th>\n      <th>family_status</th>\n      <th>family_status_id</th>\n      <th>gender</th>\n      <th>income_type</th>\n      <th>debt</th>\n      <th>total_income</th>\n      <th>purpose</th>\n      <th>income_category</th>\n    </tr>\n  </thead>\n  <tbody>\n    <tr>\n      <th>1</th>\n      <td>1</td>\n      <td>-4024.803754</td>\n      <td>36</td>\n      <td>secondary education</td>\n      <td>1</td>\n      <td>married</td>\n      <td>0</td>\n      <td>F</td>\n      <td>employee</td>\n      <td>0</td>\n      <td>17932.802</td>\n      <td>car purchase</td>\n      <td>midle</td>\n    </tr>\n    <tr>\n      <th>2</th>\n      <td>0</td>\n      <td>-5623.422610</td>\n      <td>33</td>\n      <td>Secondary Education</td>\n      <td>1</td>\n      <td>married</td>\n      <td>0</td>\n      <td>M</td>\n      <td>employee</td>\n      <td>0</td>\n      <td>23341.752</td>\n      <td>purchase of the house</td>\n      <td>midle</td>\n    </tr>\n    <tr>\n      <th>7</th>\n      <td>0</td>\n      <td>-152.779569</td>\n      <td>50</td>\n      <td>SECONDARY EDUCATION</td>\n      <td>1</td>\n      <td>married</td>\n      <td>0</td>\n      <td>M</td>\n      <td>employee</td>\n      <td>0</td>\n      <td>21731.829</td>\n      <td>education</td>\n      <td>midle</td>\n    </tr>\n    <tr>\n      <th>9</th>\n      <td>0</td>\n      <td>-2188.756445</td>\n      <td>41</td>\n      <td>secondary education</td>\n      <td>1</td>\n      <td>married</td>\n      <td>0</td>\n      <td>M</td>\n      <td>employee</td>\n      <td>0</td>\n      <td>23108.150</td>\n      <td>purchase of the house for my family</td>\n      <td>midle</td>\n    </tr>\n    <tr>\n      <th>10</th>\n      <td>2</td>\n      <td>-4171.483647</td>\n      <td>36</td>\n      <td>bachelor's degree</td>\n      <td>0</td>\n      <td>married</td>\n      <td>0</td>\n      <td>M</td>\n      <td>business</td>\n      <td>0</td>\n      <td>18230.959</td>\n      <td>buy real estate</td>\n      <td>midle</td>\n    </tr>\n    <tr>\n      <th>...</th>\n      <td>...</td>\n      <td>...</td>\n      <td>...</td>\n      <td>...</td>\n      <td>...</td>\n      <td>...</td>\n      <td>...</td>\n      <td>...</td>\n      <td>...</td>\n      <td>...</td>\n      <td>...</td>\n      <td>...</td>\n      <td>...</td>\n    </tr>\n    <tr>\n      <th>21493</th>\n      <td>1</td>\n      <td>-1214.858885</td>\n      <td>38</td>\n      <td>secondary education</td>\n      <td>1</td>\n      <td>married</td>\n      <td>0</td>\n      <td>F</td>\n      <td>employee</td>\n      <td>0</td>\n      <td>23600.416</td>\n      <td>purchase of the house for my family</td>\n      <td>midle</td>\n    </tr>\n    <tr>\n      <th>21496</th>\n      <td>1</td>\n      <td>-759.680851</td>\n      <td>31</td>\n      <td>secondary education</td>\n      <td>1</td>\n      <td>married</td>\n      <td>0</td>\n      <td>F</td>\n      <td>employee</td>\n      <td>0</td>\n      <td>19102.819</td>\n      <td>to buy a car</td>\n      <td>midle</td>\n    </tr>\n    <tr>\n      <th>21515</th>\n      <td>1</td>\n      <td>-467.685130</td>\n      <td>28</td>\n      <td>secondary education</td>\n      <td>1</td>\n      <td>married</td>\n      <td>0</td>\n      <td>F</td>\n      <td>employee</td>\n      <td>1</td>\n      <td>17517.812</td>\n      <td>to become educated</td>\n      <td>midle</td>\n    </tr>\n    <tr>\n      <th>21518</th>\n      <td>0</td>\n      <td>373995.710838</td>\n      <td>59</td>\n      <td>SECONDARY EDUCATION</td>\n      <td>1</td>\n      <td>married</td>\n      <td>0</td>\n      <td>F</td>\n      <td>retiree</td>\n      <td>0</td>\n      <td>24618.344</td>\n      <td>purchase of a car</td>\n      <td>midle</td>\n    </tr>\n    <tr>\n      <th>21521</th>\n      <td>0</td>\n      <td>343937.404131</td>\n      <td>67</td>\n      <td>secondary education</td>\n      <td>1</td>\n      <td>married</td>\n      <td>0</td>\n      <td>F</td>\n      <td>retiree</td>\n      <td>0</td>\n      <td>24959.969</td>\n      <td>purchase of a car</td>\n      <td>midle</td>\n    </tr>\n  </tbody>\n</table>\n<p>3035 rows × 13 columns</p>\n</div>"
     },
     "execution_count": 53,
     "metadata": {},
     "output_type": "execute_result"
    }
   ],
   "source": [
    "df[(df[\"family_status\"] == \"married\") & (df[\"income_category\"] == \"midle\")]"
   ],
   "metadata": {
    "collapsed": false,
    "pycharm": {
     "name": "#%%\n"
    }
   }
  },
  {
   "cell_type": "code",
   "execution_count": 54,
   "outputs": [
    {
     "ename": "UndefinedVariableError",
     "evalue": "name 'married' is not defined",
     "output_type": "error",
     "traceback": [
      "\u001B[0;31m---------------------------------------------------------------------------\u001B[0m",
      "\u001B[0;31mKeyError\u001B[0m                                  Traceback (most recent call last)",
      "\u001B[0;32m~/opt/anaconda3/lib/python3.8/site-packages/pandas/core/computation/scope.py\u001B[0m in \u001B[0;36mresolve\u001B[0;34m(self, key, is_local)\u001B[0m\n\u001B[1;32m    200\u001B[0m             \u001B[0;32mif\u001B[0m \u001B[0mself\u001B[0m\u001B[0;34m.\u001B[0m\u001B[0mhas_resolvers\u001B[0m\u001B[0;34m:\u001B[0m\u001B[0;34m\u001B[0m\u001B[0;34m\u001B[0m\u001B[0m\n\u001B[0;32m--> 201\u001B[0;31m                 \u001B[0;32mreturn\u001B[0m \u001B[0mself\u001B[0m\u001B[0;34m.\u001B[0m\u001B[0mresolvers\u001B[0m\u001B[0;34m[\u001B[0m\u001B[0mkey\u001B[0m\u001B[0;34m]\u001B[0m\u001B[0;34m\u001B[0m\u001B[0;34m\u001B[0m\u001B[0m\n\u001B[0m\u001B[1;32m    202\u001B[0m \u001B[0;34m\u001B[0m\u001B[0m\n",
      "\u001B[0;32m~/opt/anaconda3/lib/python3.8/collections/__init__.py\u001B[0m in \u001B[0;36m__getitem__\u001B[0;34m(self, key)\u001B[0m\n\u001B[1;32m    897\u001B[0m                 \u001B[0;32mpass\u001B[0m\u001B[0;34m\u001B[0m\u001B[0;34m\u001B[0m\u001B[0m\n\u001B[0;32m--> 898\u001B[0;31m         \u001B[0;32mreturn\u001B[0m \u001B[0mself\u001B[0m\u001B[0;34m.\u001B[0m\u001B[0m__missing__\u001B[0m\u001B[0;34m(\u001B[0m\u001B[0mkey\u001B[0m\u001B[0;34m)\u001B[0m            \u001B[0;31m# support subclasses that define __missing__\u001B[0m\u001B[0;34m\u001B[0m\u001B[0;34m\u001B[0m\u001B[0m\n\u001B[0m\u001B[1;32m    899\u001B[0m \u001B[0;34m\u001B[0m\u001B[0m\n",
      "\u001B[0;32m~/opt/anaconda3/lib/python3.8/collections/__init__.py\u001B[0m in \u001B[0;36m__missing__\u001B[0;34m(self, key)\u001B[0m\n\u001B[1;32m    889\u001B[0m     \u001B[0;32mdef\u001B[0m \u001B[0m__missing__\u001B[0m\u001B[0;34m(\u001B[0m\u001B[0mself\u001B[0m\u001B[0;34m,\u001B[0m \u001B[0mkey\u001B[0m\u001B[0;34m)\u001B[0m\u001B[0;34m:\u001B[0m\u001B[0;34m\u001B[0m\u001B[0;34m\u001B[0m\u001B[0m\n\u001B[0;32m--> 890\u001B[0;31m         \u001B[0;32mraise\u001B[0m \u001B[0mKeyError\u001B[0m\u001B[0;34m(\u001B[0m\u001B[0mkey\u001B[0m\u001B[0;34m)\u001B[0m\u001B[0;34m\u001B[0m\u001B[0;34m\u001B[0m\u001B[0m\n\u001B[0m\u001B[1;32m    891\u001B[0m \u001B[0;34m\u001B[0m\u001B[0m\n",
      "\u001B[0;31mKeyError\u001B[0m: 'married'",
      "\nDuring handling of the above exception, another exception occurred:\n",
      "\u001B[0;31mKeyError\u001B[0m                                  Traceback (most recent call last)",
      "\u001B[0;32m~/opt/anaconda3/lib/python3.8/site-packages/pandas/core/computation/scope.py\u001B[0m in \u001B[0;36mresolve\u001B[0;34m(self, key, is_local)\u001B[0m\n\u001B[1;32m    211\u001B[0m                 \u001B[0;31m# e.g., df[df > 0]\u001B[0m\u001B[0;34m\u001B[0m\u001B[0;34m\u001B[0m\u001B[0;34m\u001B[0m\u001B[0m\n\u001B[0;32m--> 212\u001B[0;31m                 \u001B[0;32mreturn\u001B[0m \u001B[0mself\u001B[0m\u001B[0;34m.\u001B[0m\u001B[0mtemps\u001B[0m\u001B[0;34m[\u001B[0m\u001B[0mkey\u001B[0m\u001B[0;34m]\u001B[0m\u001B[0;34m\u001B[0m\u001B[0;34m\u001B[0m\u001B[0m\n\u001B[0m\u001B[1;32m    213\u001B[0m             \u001B[0;32mexcept\u001B[0m \u001B[0mKeyError\u001B[0m \u001B[0;32mas\u001B[0m \u001B[0merr\u001B[0m\u001B[0;34m:\u001B[0m\u001B[0;34m\u001B[0m\u001B[0;34m\u001B[0m\u001B[0m\n",
      "\u001B[0;31mKeyError\u001B[0m: 'married'",
      "\nThe above exception was the direct cause of the following exception:\n",
      "\u001B[0;31mUndefinedVariableError\u001B[0m                    Traceback (most recent call last)",
      "\u001B[0;32m<ipython-input-54-a624b9f14a7c>\u001B[0m in \u001B[0;36m<module>\u001B[0;34m\u001B[0m\n\u001B[0;32m----> 1\u001B[0;31m \u001B[0mdf\u001B[0m\u001B[0;34m.\u001B[0m\u001B[0mquery\u001B[0m\u001B[0;34m(\u001B[0m\u001B[0;34m\"family_status == married and income_category == midle\"\u001B[0m\u001B[0;34m)\u001B[0m\u001B[0;34m\u001B[0m\u001B[0;34m\u001B[0m\u001B[0m\n\u001B[0m",
      "\u001B[0;32m~/opt/anaconda3/lib/python3.8/site-packages/pandas/core/frame.py\u001B[0m in \u001B[0;36mquery\u001B[0;34m(self, expr, inplace, **kwargs)\u001B[0m\n\u001B[1;32m   3467\u001B[0m         \u001B[0mkwargs\u001B[0m\u001B[0;34m[\u001B[0m\u001B[0;34m\"level\"\u001B[0m\u001B[0;34m]\u001B[0m \u001B[0;34m=\u001B[0m \u001B[0mkwargs\u001B[0m\u001B[0;34m.\u001B[0m\u001B[0mpop\u001B[0m\u001B[0;34m(\u001B[0m\u001B[0;34m\"level\"\u001B[0m\u001B[0;34m,\u001B[0m \u001B[0;36m0\u001B[0m\u001B[0;34m)\u001B[0m \u001B[0;34m+\u001B[0m \u001B[0;36m1\u001B[0m\u001B[0;34m\u001B[0m\u001B[0;34m\u001B[0m\u001B[0m\n\u001B[1;32m   3468\u001B[0m         \u001B[0mkwargs\u001B[0m\u001B[0;34m[\u001B[0m\u001B[0;34m\"target\"\u001B[0m\u001B[0;34m]\u001B[0m \u001B[0;34m=\u001B[0m \u001B[0;32mNone\u001B[0m\u001B[0;34m\u001B[0m\u001B[0;34m\u001B[0m\u001B[0m\n\u001B[0;32m-> 3469\u001B[0;31m         \u001B[0mres\u001B[0m \u001B[0;34m=\u001B[0m \u001B[0mself\u001B[0m\u001B[0;34m.\u001B[0m\u001B[0meval\u001B[0m\u001B[0;34m(\u001B[0m\u001B[0mexpr\u001B[0m\u001B[0;34m,\u001B[0m \u001B[0;34m**\u001B[0m\u001B[0mkwargs\u001B[0m\u001B[0;34m)\u001B[0m\u001B[0;34m\u001B[0m\u001B[0;34m\u001B[0m\u001B[0m\n\u001B[0m\u001B[1;32m   3470\u001B[0m \u001B[0;34m\u001B[0m\u001B[0m\n\u001B[1;32m   3471\u001B[0m         \u001B[0;32mtry\u001B[0m\u001B[0;34m:\u001B[0m\u001B[0;34m\u001B[0m\u001B[0;34m\u001B[0m\u001B[0m\n",
      "\u001B[0;32m~/opt/anaconda3/lib/python3.8/site-packages/pandas/core/frame.py\u001B[0m in \u001B[0;36meval\u001B[0;34m(self, expr, inplace, **kwargs)\u001B[0m\n\u001B[1;32m   3597\u001B[0m         \u001B[0mkwargs\u001B[0m\u001B[0;34m[\u001B[0m\u001B[0;34m\"resolvers\"\u001B[0m\u001B[0;34m]\u001B[0m \u001B[0;34m=\u001B[0m \u001B[0mkwargs\u001B[0m\u001B[0;34m.\u001B[0m\u001B[0mget\u001B[0m\u001B[0;34m(\u001B[0m\u001B[0;34m\"resolvers\"\u001B[0m\u001B[0;34m,\u001B[0m \u001B[0;34m(\u001B[0m\u001B[0;34m)\u001B[0m\u001B[0;34m)\u001B[0m \u001B[0;34m+\u001B[0m \u001B[0mtuple\u001B[0m\u001B[0;34m(\u001B[0m\u001B[0mresolvers\u001B[0m\u001B[0;34m)\u001B[0m\u001B[0;34m\u001B[0m\u001B[0;34m\u001B[0m\u001B[0m\n\u001B[1;32m   3598\u001B[0m \u001B[0;34m\u001B[0m\u001B[0m\n\u001B[0;32m-> 3599\u001B[0;31m         \u001B[0;32mreturn\u001B[0m \u001B[0m_eval\u001B[0m\u001B[0;34m(\u001B[0m\u001B[0mexpr\u001B[0m\u001B[0;34m,\u001B[0m \u001B[0minplace\u001B[0m\u001B[0;34m=\u001B[0m\u001B[0minplace\u001B[0m\u001B[0;34m,\u001B[0m \u001B[0;34m**\u001B[0m\u001B[0mkwargs\u001B[0m\u001B[0;34m)\u001B[0m\u001B[0;34m\u001B[0m\u001B[0;34m\u001B[0m\u001B[0m\n\u001B[0m\u001B[1;32m   3600\u001B[0m \u001B[0;34m\u001B[0m\u001B[0m\n\u001B[1;32m   3601\u001B[0m     \u001B[0;32mdef\u001B[0m \u001B[0mselect_dtypes\u001B[0m\u001B[0;34m(\u001B[0m\u001B[0mself\u001B[0m\u001B[0;34m,\u001B[0m \u001B[0minclude\u001B[0m\u001B[0;34m=\u001B[0m\u001B[0;32mNone\u001B[0m\u001B[0;34m,\u001B[0m \u001B[0mexclude\u001B[0m\u001B[0;34m=\u001B[0m\u001B[0;32mNone\u001B[0m\u001B[0;34m)\u001B[0m \u001B[0;34m->\u001B[0m \u001B[0mDataFrame\u001B[0m\u001B[0;34m:\u001B[0m\u001B[0;34m\u001B[0m\u001B[0;34m\u001B[0m\u001B[0m\n",
      "\u001B[0;32m~/opt/anaconda3/lib/python3.8/site-packages/pandas/core/computation/eval.py\u001B[0m in \u001B[0;36meval\u001B[0;34m(expr, parser, engine, truediv, local_dict, global_dict, resolvers, level, target, inplace)\u001B[0m\n\u001B[1;32m    340\u001B[0m         )\n\u001B[1;32m    341\u001B[0m \u001B[0;34m\u001B[0m\u001B[0m\n\u001B[0;32m--> 342\u001B[0;31m         \u001B[0mparsed_expr\u001B[0m \u001B[0;34m=\u001B[0m \u001B[0mExpr\u001B[0m\u001B[0;34m(\u001B[0m\u001B[0mexpr\u001B[0m\u001B[0;34m,\u001B[0m \u001B[0mengine\u001B[0m\u001B[0;34m=\u001B[0m\u001B[0mengine\u001B[0m\u001B[0;34m,\u001B[0m \u001B[0mparser\u001B[0m\u001B[0;34m=\u001B[0m\u001B[0mparser\u001B[0m\u001B[0;34m,\u001B[0m \u001B[0menv\u001B[0m\u001B[0;34m=\u001B[0m\u001B[0menv\u001B[0m\u001B[0;34m)\u001B[0m\u001B[0;34m\u001B[0m\u001B[0;34m\u001B[0m\u001B[0m\n\u001B[0m\u001B[1;32m    343\u001B[0m \u001B[0;34m\u001B[0m\u001B[0m\n\u001B[1;32m    344\u001B[0m         \u001B[0;31m# construct the engine and evaluate the parsed expression\u001B[0m\u001B[0;34m\u001B[0m\u001B[0;34m\u001B[0m\u001B[0;34m\u001B[0m\u001B[0m\n",
      "\u001B[0;32m~/opt/anaconda3/lib/python3.8/site-packages/pandas/core/computation/expr.py\u001B[0m in \u001B[0;36m__init__\u001B[0;34m(self, expr, engine, parser, env, level)\u001B[0m\n\u001B[1;32m    796\u001B[0m         \u001B[0mself\u001B[0m\u001B[0;34m.\u001B[0m\u001B[0mparser\u001B[0m \u001B[0;34m=\u001B[0m \u001B[0mparser\u001B[0m\u001B[0;34m\u001B[0m\u001B[0;34m\u001B[0m\u001B[0m\n\u001B[1;32m    797\u001B[0m         \u001B[0mself\u001B[0m\u001B[0;34m.\u001B[0m\u001B[0m_visitor\u001B[0m \u001B[0;34m=\u001B[0m \u001B[0mPARSERS\u001B[0m\u001B[0;34m[\u001B[0m\u001B[0mparser\u001B[0m\u001B[0;34m]\u001B[0m\u001B[0;34m(\u001B[0m\u001B[0mself\u001B[0m\u001B[0;34m.\u001B[0m\u001B[0menv\u001B[0m\u001B[0;34m,\u001B[0m \u001B[0mself\u001B[0m\u001B[0;34m.\u001B[0m\u001B[0mengine\u001B[0m\u001B[0;34m,\u001B[0m \u001B[0mself\u001B[0m\u001B[0;34m.\u001B[0m\u001B[0mparser\u001B[0m\u001B[0;34m)\u001B[0m\u001B[0;34m\u001B[0m\u001B[0;34m\u001B[0m\u001B[0m\n\u001B[0;32m--> 798\u001B[0;31m         \u001B[0mself\u001B[0m\u001B[0;34m.\u001B[0m\u001B[0mterms\u001B[0m \u001B[0;34m=\u001B[0m \u001B[0mself\u001B[0m\u001B[0;34m.\u001B[0m\u001B[0mparse\u001B[0m\u001B[0;34m(\u001B[0m\u001B[0;34m)\u001B[0m\u001B[0;34m\u001B[0m\u001B[0;34m\u001B[0m\u001B[0m\n\u001B[0m\u001B[1;32m    799\u001B[0m \u001B[0;34m\u001B[0m\u001B[0m\n\u001B[1;32m    800\u001B[0m     \u001B[0;34m@\u001B[0m\u001B[0mproperty\u001B[0m\u001B[0;34m\u001B[0m\u001B[0;34m\u001B[0m\u001B[0m\n",
      "\u001B[0;32m~/opt/anaconda3/lib/python3.8/site-packages/pandas/core/computation/expr.py\u001B[0m in \u001B[0;36mparse\u001B[0;34m(self)\u001B[0m\n\u001B[1;32m    815\u001B[0m         \u001B[0mParse\u001B[0m \u001B[0man\u001B[0m \u001B[0mexpression\u001B[0m\u001B[0;34m.\u001B[0m\u001B[0;34m\u001B[0m\u001B[0;34m\u001B[0m\u001B[0m\n\u001B[1;32m    816\u001B[0m         \"\"\"\n\u001B[0;32m--> 817\u001B[0;31m         \u001B[0;32mreturn\u001B[0m \u001B[0mself\u001B[0m\u001B[0;34m.\u001B[0m\u001B[0m_visitor\u001B[0m\u001B[0;34m.\u001B[0m\u001B[0mvisit\u001B[0m\u001B[0;34m(\u001B[0m\u001B[0mself\u001B[0m\u001B[0;34m.\u001B[0m\u001B[0mexpr\u001B[0m\u001B[0;34m)\u001B[0m\u001B[0;34m\u001B[0m\u001B[0;34m\u001B[0m\u001B[0m\n\u001B[0m\u001B[1;32m    818\u001B[0m \u001B[0;34m\u001B[0m\u001B[0m\n\u001B[1;32m    819\u001B[0m     \u001B[0;34m@\u001B[0m\u001B[0mproperty\u001B[0m\u001B[0;34m\u001B[0m\u001B[0;34m\u001B[0m\u001B[0m\n",
      "\u001B[0;32m~/opt/anaconda3/lib/python3.8/site-packages/pandas/core/computation/expr.py\u001B[0m in \u001B[0;36mvisit\u001B[0;34m(self, node, **kwargs)\u001B[0m\n\u001B[1;32m    399\u001B[0m         \u001B[0mmethod\u001B[0m \u001B[0;34m=\u001B[0m \u001B[0;34m\"visit_\"\u001B[0m \u001B[0;34m+\u001B[0m \u001B[0mtype\u001B[0m\u001B[0;34m(\u001B[0m\u001B[0mnode\u001B[0m\u001B[0;34m)\u001B[0m\u001B[0;34m.\u001B[0m\u001B[0m__name__\u001B[0m\u001B[0;34m\u001B[0m\u001B[0;34m\u001B[0m\u001B[0m\n\u001B[1;32m    400\u001B[0m         \u001B[0mvisitor\u001B[0m \u001B[0;34m=\u001B[0m \u001B[0mgetattr\u001B[0m\u001B[0;34m(\u001B[0m\u001B[0mself\u001B[0m\u001B[0;34m,\u001B[0m \u001B[0mmethod\u001B[0m\u001B[0;34m)\u001B[0m\u001B[0;34m\u001B[0m\u001B[0;34m\u001B[0m\u001B[0m\n\u001B[0;32m--> 401\u001B[0;31m         \u001B[0;32mreturn\u001B[0m \u001B[0mvisitor\u001B[0m\u001B[0;34m(\u001B[0m\u001B[0mnode\u001B[0m\u001B[0;34m,\u001B[0m \u001B[0;34m**\u001B[0m\u001B[0mkwargs\u001B[0m\u001B[0;34m)\u001B[0m\u001B[0;34m\u001B[0m\u001B[0;34m\u001B[0m\u001B[0m\n\u001B[0m\u001B[1;32m    402\u001B[0m \u001B[0;34m\u001B[0m\u001B[0m\n\u001B[1;32m    403\u001B[0m     \u001B[0;32mdef\u001B[0m \u001B[0mvisit_Module\u001B[0m\u001B[0;34m(\u001B[0m\u001B[0mself\u001B[0m\u001B[0;34m,\u001B[0m \u001B[0mnode\u001B[0m\u001B[0;34m,\u001B[0m \u001B[0;34m**\u001B[0m\u001B[0mkwargs\u001B[0m\u001B[0;34m)\u001B[0m\u001B[0;34m:\u001B[0m\u001B[0;34m\u001B[0m\u001B[0;34m\u001B[0m\u001B[0m\n",
      "\u001B[0;32m~/opt/anaconda3/lib/python3.8/site-packages/pandas/core/computation/expr.py\u001B[0m in \u001B[0;36mvisit_Module\u001B[0;34m(self, node, **kwargs)\u001B[0m\n\u001B[1;32m    405\u001B[0m             \u001B[0;32mraise\u001B[0m \u001B[0mSyntaxError\u001B[0m\u001B[0;34m(\u001B[0m\u001B[0;34m\"only a single expression is allowed\"\u001B[0m\u001B[0;34m)\u001B[0m\u001B[0;34m\u001B[0m\u001B[0;34m\u001B[0m\u001B[0m\n\u001B[1;32m    406\u001B[0m         \u001B[0mexpr\u001B[0m \u001B[0;34m=\u001B[0m \u001B[0mnode\u001B[0m\u001B[0;34m.\u001B[0m\u001B[0mbody\u001B[0m\u001B[0;34m[\u001B[0m\u001B[0;36m0\u001B[0m\u001B[0;34m]\u001B[0m\u001B[0;34m\u001B[0m\u001B[0;34m\u001B[0m\u001B[0m\n\u001B[0;32m--> 407\u001B[0;31m         \u001B[0;32mreturn\u001B[0m \u001B[0mself\u001B[0m\u001B[0;34m.\u001B[0m\u001B[0mvisit\u001B[0m\u001B[0;34m(\u001B[0m\u001B[0mexpr\u001B[0m\u001B[0;34m,\u001B[0m \u001B[0;34m**\u001B[0m\u001B[0mkwargs\u001B[0m\u001B[0;34m)\u001B[0m\u001B[0;34m\u001B[0m\u001B[0;34m\u001B[0m\u001B[0m\n\u001B[0m\u001B[1;32m    408\u001B[0m \u001B[0;34m\u001B[0m\u001B[0m\n\u001B[1;32m    409\u001B[0m     \u001B[0;32mdef\u001B[0m \u001B[0mvisit_Expr\u001B[0m\u001B[0;34m(\u001B[0m\u001B[0mself\u001B[0m\u001B[0;34m,\u001B[0m \u001B[0mnode\u001B[0m\u001B[0;34m,\u001B[0m \u001B[0;34m**\u001B[0m\u001B[0mkwargs\u001B[0m\u001B[0;34m)\u001B[0m\u001B[0;34m:\u001B[0m\u001B[0;34m\u001B[0m\u001B[0;34m\u001B[0m\u001B[0m\n",
      "\u001B[0;32m~/opt/anaconda3/lib/python3.8/site-packages/pandas/core/computation/expr.py\u001B[0m in \u001B[0;36mvisit\u001B[0;34m(self, node, **kwargs)\u001B[0m\n\u001B[1;32m    399\u001B[0m         \u001B[0mmethod\u001B[0m \u001B[0;34m=\u001B[0m \u001B[0;34m\"visit_\"\u001B[0m \u001B[0;34m+\u001B[0m \u001B[0mtype\u001B[0m\u001B[0;34m(\u001B[0m\u001B[0mnode\u001B[0m\u001B[0;34m)\u001B[0m\u001B[0;34m.\u001B[0m\u001B[0m__name__\u001B[0m\u001B[0;34m\u001B[0m\u001B[0;34m\u001B[0m\u001B[0m\n\u001B[1;32m    400\u001B[0m         \u001B[0mvisitor\u001B[0m \u001B[0;34m=\u001B[0m \u001B[0mgetattr\u001B[0m\u001B[0;34m(\u001B[0m\u001B[0mself\u001B[0m\u001B[0;34m,\u001B[0m \u001B[0mmethod\u001B[0m\u001B[0;34m)\u001B[0m\u001B[0;34m\u001B[0m\u001B[0;34m\u001B[0m\u001B[0m\n\u001B[0;32m--> 401\u001B[0;31m         \u001B[0;32mreturn\u001B[0m \u001B[0mvisitor\u001B[0m\u001B[0;34m(\u001B[0m\u001B[0mnode\u001B[0m\u001B[0;34m,\u001B[0m \u001B[0;34m**\u001B[0m\u001B[0mkwargs\u001B[0m\u001B[0;34m)\u001B[0m\u001B[0;34m\u001B[0m\u001B[0;34m\u001B[0m\u001B[0m\n\u001B[0m\u001B[1;32m    402\u001B[0m \u001B[0;34m\u001B[0m\u001B[0m\n\u001B[1;32m    403\u001B[0m     \u001B[0;32mdef\u001B[0m \u001B[0mvisit_Module\u001B[0m\u001B[0;34m(\u001B[0m\u001B[0mself\u001B[0m\u001B[0;34m,\u001B[0m \u001B[0mnode\u001B[0m\u001B[0;34m,\u001B[0m \u001B[0;34m**\u001B[0m\u001B[0mkwargs\u001B[0m\u001B[0;34m)\u001B[0m\u001B[0;34m:\u001B[0m\u001B[0;34m\u001B[0m\u001B[0;34m\u001B[0m\u001B[0m\n",
      "\u001B[0;32m~/opt/anaconda3/lib/python3.8/site-packages/pandas/core/computation/expr.py\u001B[0m in \u001B[0;36mvisit_Expr\u001B[0;34m(self, node, **kwargs)\u001B[0m\n\u001B[1;32m    408\u001B[0m \u001B[0;34m\u001B[0m\u001B[0m\n\u001B[1;32m    409\u001B[0m     \u001B[0;32mdef\u001B[0m \u001B[0mvisit_Expr\u001B[0m\u001B[0;34m(\u001B[0m\u001B[0mself\u001B[0m\u001B[0;34m,\u001B[0m \u001B[0mnode\u001B[0m\u001B[0;34m,\u001B[0m \u001B[0;34m**\u001B[0m\u001B[0mkwargs\u001B[0m\u001B[0;34m)\u001B[0m\u001B[0;34m:\u001B[0m\u001B[0;34m\u001B[0m\u001B[0;34m\u001B[0m\u001B[0m\n\u001B[0;32m--> 410\u001B[0;31m         \u001B[0;32mreturn\u001B[0m \u001B[0mself\u001B[0m\u001B[0;34m.\u001B[0m\u001B[0mvisit\u001B[0m\u001B[0;34m(\u001B[0m\u001B[0mnode\u001B[0m\u001B[0;34m.\u001B[0m\u001B[0mvalue\u001B[0m\u001B[0;34m,\u001B[0m \u001B[0;34m**\u001B[0m\u001B[0mkwargs\u001B[0m\u001B[0;34m)\u001B[0m\u001B[0;34m\u001B[0m\u001B[0;34m\u001B[0m\u001B[0m\n\u001B[0m\u001B[1;32m    411\u001B[0m \u001B[0;34m\u001B[0m\u001B[0m\n\u001B[1;32m    412\u001B[0m     \u001B[0;32mdef\u001B[0m \u001B[0m_rewrite_membership_op\u001B[0m\u001B[0;34m(\u001B[0m\u001B[0mself\u001B[0m\u001B[0;34m,\u001B[0m \u001B[0mnode\u001B[0m\u001B[0;34m,\u001B[0m \u001B[0mleft\u001B[0m\u001B[0;34m,\u001B[0m \u001B[0mright\u001B[0m\u001B[0;34m)\u001B[0m\u001B[0;34m:\u001B[0m\u001B[0;34m\u001B[0m\u001B[0;34m\u001B[0m\u001B[0m\n",
      "\u001B[0;32m~/opt/anaconda3/lib/python3.8/site-packages/pandas/core/computation/expr.py\u001B[0m in \u001B[0;36mvisit\u001B[0;34m(self, node, **kwargs)\u001B[0m\n\u001B[1;32m    399\u001B[0m         \u001B[0mmethod\u001B[0m \u001B[0;34m=\u001B[0m \u001B[0;34m\"visit_\"\u001B[0m \u001B[0;34m+\u001B[0m \u001B[0mtype\u001B[0m\u001B[0;34m(\u001B[0m\u001B[0mnode\u001B[0m\u001B[0;34m)\u001B[0m\u001B[0;34m.\u001B[0m\u001B[0m__name__\u001B[0m\u001B[0;34m\u001B[0m\u001B[0;34m\u001B[0m\u001B[0m\n\u001B[1;32m    400\u001B[0m         \u001B[0mvisitor\u001B[0m \u001B[0;34m=\u001B[0m \u001B[0mgetattr\u001B[0m\u001B[0;34m(\u001B[0m\u001B[0mself\u001B[0m\u001B[0;34m,\u001B[0m \u001B[0mmethod\u001B[0m\u001B[0;34m)\u001B[0m\u001B[0;34m\u001B[0m\u001B[0;34m\u001B[0m\u001B[0m\n\u001B[0;32m--> 401\u001B[0;31m         \u001B[0;32mreturn\u001B[0m \u001B[0mvisitor\u001B[0m\u001B[0;34m(\u001B[0m\u001B[0mnode\u001B[0m\u001B[0;34m,\u001B[0m \u001B[0;34m**\u001B[0m\u001B[0mkwargs\u001B[0m\u001B[0;34m)\u001B[0m\u001B[0;34m\u001B[0m\u001B[0;34m\u001B[0m\u001B[0m\n\u001B[0m\u001B[1;32m    402\u001B[0m \u001B[0;34m\u001B[0m\u001B[0m\n\u001B[1;32m    403\u001B[0m     \u001B[0;32mdef\u001B[0m \u001B[0mvisit_Module\u001B[0m\u001B[0;34m(\u001B[0m\u001B[0mself\u001B[0m\u001B[0;34m,\u001B[0m \u001B[0mnode\u001B[0m\u001B[0;34m,\u001B[0m \u001B[0;34m**\u001B[0m\u001B[0mkwargs\u001B[0m\u001B[0;34m)\u001B[0m\u001B[0;34m:\u001B[0m\u001B[0;34m\u001B[0m\u001B[0;34m\u001B[0m\u001B[0m\n",
      "\u001B[0;32m~/opt/anaconda3/lib/python3.8/site-packages/pandas/core/computation/expr.py\u001B[0m in \u001B[0;36mvisit_BoolOp\u001B[0;34m(self, node, **kwargs)\u001B[0m\n\u001B[1;32m    735\u001B[0m \u001B[0;34m\u001B[0m\u001B[0m\n\u001B[1;32m    736\u001B[0m         \u001B[0moperands\u001B[0m \u001B[0;34m=\u001B[0m \u001B[0mnode\u001B[0m\u001B[0;34m.\u001B[0m\u001B[0mvalues\u001B[0m\u001B[0;34m\u001B[0m\u001B[0;34m\u001B[0m\u001B[0m\n\u001B[0;32m--> 737\u001B[0;31m         \u001B[0;32mreturn\u001B[0m \u001B[0mreduce\u001B[0m\u001B[0;34m(\u001B[0m\u001B[0mvisitor\u001B[0m\u001B[0;34m,\u001B[0m \u001B[0moperands\u001B[0m\u001B[0;34m)\u001B[0m\u001B[0;34m\u001B[0m\u001B[0;34m\u001B[0m\u001B[0m\n\u001B[0m\u001B[1;32m    738\u001B[0m \u001B[0;34m\u001B[0m\u001B[0m\n\u001B[1;32m    739\u001B[0m \u001B[0;34m\u001B[0m\u001B[0m\n",
      "\u001B[0;32m~/opt/anaconda3/lib/python3.8/site-packages/pandas/core/computation/expr.py\u001B[0m in \u001B[0;36mvisitor\u001B[0;34m(x, y)\u001B[0m\n\u001B[1;32m    728\u001B[0m     \u001B[0;32mdef\u001B[0m \u001B[0mvisit_BoolOp\u001B[0m\u001B[0;34m(\u001B[0m\u001B[0mself\u001B[0m\u001B[0;34m,\u001B[0m \u001B[0mnode\u001B[0m\u001B[0;34m,\u001B[0m \u001B[0;34m**\u001B[0m\u001B[0mkwargs\u001B[0m\u001B[0;34m)\u001B[0m\u001B[0;34m:\u001B[0m\u001B[0;34m\u001B[0m\u001B[0;34m\u001B[0m\u001B[0m\n\u001B[1;32m    729\u001B[0m         \u001B[0;32mdef\u001B[0m \u001B[0mvisitor\u001B[0m\u001B[0;34m(\u001B[0m\u001B[0mx\u001B[0m\u001B[0;34m,\u001B[0m \u001B[0my\u001B[0m\u001B[0;34m)\u001B[0m\u001B[0;34m:\u001B[0m\u001B[0;34m\u001B[0m\u001B[0;34m\u001B[0m\u001B[0m\n\u001B[0;32m--> 730\u001B[0;31m             \u001B[0mlhs\u001B[0m \u001B[0;34m=\u001B[0m \u001B[0mself\u001B[0m\u001B[0;34m.\u001B[0m\u001B[0m_try_visit_binop\u001B[0m\u001B[0;34m(\u001B[0m\u001B[0mx\u001B[0m\u001B[0;34m)\u001B[0m\u001B[0;34m\u001B[0m\u001B[0;34m\u001B[0m\u001B[0m\n\u001B[0m\u001B[1;32m    731\u001B[0m             \u001B[0mrhs\u001B[0m \u001B[0;34m=\u001B[0m \u001B[0mself\u001B[0m\u001B[0;34m.\u001B[0m\u001B[0m_try_visit_binop\u001B[0m\u001B[0;34m(\u001B[0m\u001B[0my\u001B[0m\u001B[0;34m)\u001B[0m\u001B[0;34m\u001B[0m\u001B[0;34m\u001B[0m\u001B[0m\n\u001B[1;32m    732\u001B[0m \u001B[0;34m\u001B[0m\u001B[0m\n",
      "\u001B[0;32m~/opt/anaconda3/lib/python3.8/site-packages/pandas/core/computation/expr.py\u001B[0m in \u001B[0;36m_try_visit_binop\u001B[0;34m(self, bop)\u001B[0m\n\u001B[1;32m    724\u001B[0m         \u001B[0;32mif\u001B[0m \u001B[0misinstance\u001B[0m\u001B[0;34m(\u001B[0m\u001B[0mbop\u001B[0m\u001B[0;34m,\u001B[0m \u001B[0;34m(\u001B[0m\u001B[0mOp\u001B[0m\u001B[0;34m,\u001B[0m \u001B[0mTerm\u001B[0m\u001B[0;34m)\u001B[0m\u001B[0;34m)\u001B[0m\u001B[0;34m:\u001B[0m\u001B[0;34m\u001B[0m\u001B[0;34m\u001B[0m\u001B[0m\n\u001B[1;32m    725\u001B[0m             \u001B[0;32mreturn\u001B[0m \u001B[0mbop\u001B[0m\u001B[0;34m\u001B[0m\u001B[0;34m\u001B[0m\u001B[0m\n\u001B[0;32m--> 726\u001B[0;31m         \u001B[0;32mreturn\u001B[0m \u001B[0mself\u001B[0m\u001B[0;34m.\u001B[0m\u001B[0mvisit\u001B[0m\u001B[0;34m(\u001B[0m\u001B[0mbop\u001B[0m\u001B[0;34m)\u001B[0m\u001B[0;34m\u001B[0m\u001B[0;34m\u001B[0m\u001B[0m\n\u001B[0m\u001B[1;32m    727\u001B[0m \u001B[0;34m\u001B[0m\u001B[0m\n\u001B[1;32m    728\u001B[0m     \u001B[0;32mdef\u001B[0m \u001B[0mvisit_BoolOp\u001B[0m\u001B[0;34m(\u001B[0m\u001B[0mself\u001B[0m\u001B[0;34m,\u001B[0m \u001B[0mnode\u001B[0m\u001B[0;34m,\u001B[0m \u001B[0;34m**\u001B[0m\u001B[0mkwargs\u001B[0m\u001B[0;34m)\u001B[0m\u001B[0;34m:\u001B[0m\u001B[0;34m\u001B[0m\u001B[0;34m\u001B[0m\u001B[0m\n",
      "\u001B[0;32m~/opt/anaconda3/lib/python3.8/site-packages/pandas/core/computation/expr.py\u001B[0m in \u001B[0;36mvisit\u001B[0;34m(self, node, **kwargs)\u001B[0m\n\u001B[1;32m    399\u001B[0m         \u001B[0mmethod\u001B[0m \u001B[0;34m=\u001B[0m \u001B[0;34m\"visit_\"\u001B[0m \u001B[0;34m+\u001B[0m \u001B[0mtype\u001B[0m\u001B[0;34m(\u001B[0m\u001B[0mnode\u001B[0m\u001B[0;34m)\u001B[0m\u001B[0;34m.\u001B[0m\u001B[0m__name__\u001B[0m\u001B[0;34m\u001B[0m\u001B[0;34m\u001B[0m\u001B[0m\n\u001B[1;32m    400\u001B[0m         \u001B[0mvisitor\u001B[0m \u001B[0;34m=\u001B[0m \u001B[0mgetattr\u001B[0m\u001B[0;34m(\u001B[0m\u001B[0mself\u001B[0m\u001B[0;34m,\u001B[0m \u001B[0mmethod\u001B[0m\u001B[0;34m)\u001B[0m\u001B[0;34m\u001B[0m\u001B[0;34m\u001B[0m\u001B[0m\n\u001B[0;32m--> 401\u001B[0;31m         \u001B[0;32mreturn\u001B[0m \u001B[0mvisitor\u001B[0m\u001B[0;34m(\u001B[0m\u001B[0mnode\u001B[0m\u001B[0;34m,\u001B[0m \u001B[0;34m**\u001B[0m\u001B[0mkwargs\u001B[0m\u001B[0;34m)\u001B[0m\u001B[0;34m\u001B[0m\u001B[0;34m\u001B[0m\u001B[0m\n\u001B[0m\u001B[1;32m    402\u001B[0m \u001B[0;34m\u001B[0m\u001B[0m\n\u001B[1;32m    403\u001B[0m     \u001B[0;32mdef\u001B[0m \u001B[0mvisit_Module\u001B[0m\u001B[0;34m(\u001B[0m\u001B[0mself\u001B[0m\u001B[0;34m,\u001B[0m \u001B[0mnode\u001B[0m\u001B[0;34m,\u001B[0m \u001B[0;34m**\u001B[0m\u001B[0mkwargs\u001B[0m\u001B[0;34m)\u001B[0m\u001B[0;34m:\u001B[0m\u001B[0;34m\u001B[0m\u001B[0;34m\u001B[0m\u001B[0m\n",
      "\u001B[0;32m~/opt/anaconda3/lib/python3.8/site-packages/pandas/core/computation/expr.py\u001B[0m in \u001B[0;36mvisit_Compare\u001B[0;34m(self, node, **kwargs)\u001B[0m\n\u001B[1;32m    708\u001B[0m             \u001B[0mop\u001B[0m \u001B[0;34m=\u001B[0m \u001B[0mself\u001B[0m\u001B[0;34m.\u001B[0m\u001B[0mtranslate_In\u001B[0m\u001B[0;34m(\u001B[0m\u001B[0mops\u001B[0m\u001B[0;34m[\u001B[0m\u001B[0;36m0\u001B[0m\u001B[0;34m]\u001B[0m\u001B[0;34m)\u001B[0m\u001B[0;34m\u001B[0m\u001B[0;34m\u001B[0m\u001B[0m\n\u001B[1;32m    709\u001B[0m             \u001B[0mbinop\u001B[0m \u001B[0;34m=\u001B[0m \u001B[0mast\u001B[0m\u001B[0;34m.\u001B[0m\u001B[0mBinOp\u001B[0m\u001B[0;34m(\u001B[0m\u001B[0mop\u001B[0m\u001B[0;34m=\u001B[0m\u001B[0mop\u001B[0m\u001B[0;34m,\u001B[0m \u001B[0mleft\u001B[0m\u001B[0;34m=\u001B[0m\u001B[0mnode\u001B[0m\u001B[0;34m.\u001B[0m\u001B[0mleft\u001B[0m\u001B[0;34m,\u001B[0m \u001B[0mright\u001B[0m\u001B[0;34m=\u001B[0m\u001B[0mcomps\u001B[0m\u001B[0;34m[\u001B[0m\u001B[0;36m0\u001B[0m\u001B[0;34m]\u001B[0m\u001B[0;34m)\u001B[0m\u001B[0;34m\u001B[0m\u001B[0;34m\u001B[0m\u001B[0m\n\u001B[0;32m--> 710\u001B[0;31m             \u001B[0;32mreturn\u001B[0m \u001B[0mself\u001B[0m\u001B[0;34m.\u001B[0m\u001B[0mvisit\u001B[0m\u001B[0;34m(\u001B[0m\u001B[0mbinop\u001B[0m\u001B[0;34m)\u001B[0m\u001B[0;34m\u001B[0m\u001B[0;34m\u001B[0m\u001B[0m\n\u001B[0m\u001B[1;32m    711\u001B[0m \u001B[0;34m\u001B[0m\u001B[0m\n\u001B[1;32m    712\u001B[0m         \u001B[0;31m# recursive case: we have a chained comparison, a CMP b CMP c, etc.\u001B[0m\u001B[0;34m\u001B[0m\u001B[0;34m\u001B[0m\u001B[0;34m\u001B[0m\u001B[0m\n",
      "\u001B[0;32m~/opt/anaconda3/lib/python3.8/site-packages/pandas/core/computation/expr.py\u001B[0m in \u001B[0;36mvisit\u001B[0;34m(self, node, **kwargs)\u001B[0m\n\u001B[1;32m    399\u001B[0m         \u001B[0mmethod\u001B[0m \u001B[0;34m=\u001B[0m \u001B[0;34m\"visit_\"\u001B[0m \u001B[0;34m+\u001B[0m \u001B[0mtype\u001B[0m\u001B[0;34m(\u001B[0m\u001B[0mnode\u001B[0m\u001B[0;34m)\u001B[0m\u001B[0;34m.\u001B[0m\u001B[0m__name__\u001B[0m\u001B[0;34m\u001B[0m\u001B[0;34m\u001B[0m\u001B[0m\n\u001B[1;32m    400\u001B[0m         \u001B[0mvisitor\u001B[0m \u001B[0;34m=\u001B[0m \u001B[0mgetattr\u001B[0m\u001B[0;34m(\u001B[0m\u001B[0mself\u001B[0m\u001B[0;34m,\u001B[0m \u001B[0mmethod\u001B[0m\u001B[0;34m)\u001B[0m\u001B[0;34m\u001B[0m\u001B[0;34m\u001B[0m\u001B[0m\n\u001B[0;32m--> 401\u001B[0;31m         \u001B[0;32mreturn\u001B[0m \u001B[0mvisitor\u001B[0m\u001B[0;34m(\u001B[0m\u001B[0mnode\u001B[0m\u001B[0;34m,\u001B[0m \u001B[0;34m**\u001B[0m\u001B[0mkwargs\u001B[0m\u001B[0;34m)\u001B[0m\u001B[0;34m\u001B[0m\u001B[0;34m\u001B[0m\u001B[0m\n\u001B[0m\u001B[1;32m    402\u001B[0m \u001B[0;34m\u001B[0m\u001B[0m\n\u001B[1;32m    403\u001B[0m     \u001B[0;32mdef\u001B[0m \u001B[0mvisit_Module\u001B[0m\u001B[0;34m(\u001B[0m\u001B[0mself\u001B[0m\u001B[0;34m,\u001B[0m \u001B[0mnode\u001B[0m\u001B[0;34m,\u001B[0m \u001B[0;34m**\u001B[0m\u001B[0mkwargs\u001B[0m\u001B[0;34m)\u001B[0m\u001B[0;34m:\u001B[0m\u001B[0;34m\u001B[0m\u001B[0;34m\u001B[0m\u001B[0m\n",
      "\u001B[0;32m~/opt/anaconda3/lib/python3.8/site-packages/pandas/core/computation/expr.py\u001B[0m in \u001B[0;36mvisit_BinOp\u001B[0;34m(self, node, **kwargs)\u001B[0m\n\u001B[1;32m    520\u001B[0m \u001B[0;34m\u001B[0m\u001B[0m\n\u001B[1;32m    521\u001B[0m     \u001B[0;32mdef\u001B[0m \u001B[0mvisit_BinOp\u001B[0m\u001B[0;34m(\u001B[0m\u001B[0mself\u001B[0m\u001B[0;34m,\u001B[0m \u001B[0mnode\u001B[0m\u001B[0;34m,\u001B[0m \u001B[0;34m**\u001B[0m\u001B[0mkwargs\u001B[0m\u001B[0;34m)\u001B[0m\u001B[0;34m:\u001B[0m\u001B[0;34m\u001B[0m\u001B[0;34m\u001B[0m\u001B[0m\n\u001B[0;32m--> 522\u001B[0;31m         \u001B[0mop\u001B[0m\u001B[0;34m,\u001B[0m \u001B[0mop_class\u001B[0m\u001B[0;34m,\u001B[0m \u001B[0mleft\u001B[0m\u001B[0;34m,\u001B[0m \u001B[0mright\u001B[0m \u001B[0;34m=\u001B[0m \u001B[0mself\u001B[0m\u001B[0;34m.\u001B[0m\u001B[0m_maybe_transform_eq_ne\u001B[0m\u001B[0;34m(\u001B[0m\u001B[0mnode\u001B[0m\u001B[0;34m)\u001B[0m\u001B[0;34m\u001B[0m\u001B[0;34m\u001B[0m\u001B[0m\n\u001B[0m\u001B[1;32m    523\u001B[0m         \u001B[0mleft\u001B[0m\u001B[0;34m,\u001B[0m \u001B[0mright\u001B[0m \u001B[0;34m=\u001B[0m \u001B[0mself\u001B[0m\u001B[0;34m.\u001B[0m\u001B[0m_maybe_downcast_constants\u001B[0m\u001B[0;34m(\u001B[0m\u001B[0mleft\u001B[0m\u001B[0;34m,\u001B[0m \u001B[0mright\u001B[0m\u001B[0;34m)\u001B[0m\u001B[0;34m\u001B[0m\u001B[0;34m\u001B[0m\u001B[0m\n\u001B[1;32m    524\u001B[0m         \u001B[0;32mreturn\u001B[0m \u001B[0mself\u001B[0m\u001B[0;34m.\u001B[0m\u001B[0m_maybe_evaluate_binop\u001B[0m\u001B[0;34m(\u001B[0m\u001B[0mop\u001B[0m\u001B[0;34m,\u001B[0m \u001B[0mop_class\u001B[0m\u001B[0;34m,\u001B[0m \u001B[0mleft\u001B[0m\u001B[0;34m,\u001B[0m \u001B[0mright\u001B[0m\u001B[0;34m)\u001B[0m\u001B[0;34m\u001B[0m\u001B[0;34m\u001B[0m\u001B[0m\n",
      "\u001B[0;32m~/opt/anaconda3/lib/python3.8/site-packages/pandas/core/computation/expr.py\u001B[0m in \u001B[0;36m_maybe_transform_eq_ne\u001B[0;34m(self, node, left, right)\u001B[0m\n\u001B[1;32m    442\u001B[0m             \u001B[0mleft\u001B[0m \u001B[0;34m=\u001B[0m \u001B[0mself\u001B[0m\u001B[0;34m.\u001B[0m\u001B[0mvisit\u001B[0m\u001B[0;34m(\u001B[0m\u001B[0mnode\u001B[0m\u001B[0;34m.\u001B[0m\u001B[0mleft\u001B[0m\u001B[0;34m,\u001B[0m \u001B[0mside\u001B[0m\u001B[0;34m=\u001B[0m\u001B[0;34m\"left\"\u001B[0m\u001B[0;34m)\u001B[0m\u001B[0;34m\u001B[0m\u001B[0;34m\u001B[0m\u001B[0m\n\u001B[1;32m    443\u001B[0m         \u001B[0;32mif\u001B[0m \u001B[0mright\u001B[0m \u001B[0;32mis\u001B[0m \u001B[0;32mNone\u001B[0m\u001B[0;34m:\u001B[0m\u001B[0;34m\u001B[0m\u001B[0;34m\u001B[0m\u001B[0m\n\u001B[0;32m--> 444\u001B[0;31m             \u001B[0mright\u001B[0m \u001B[0;34m=\u001B[0m \u001B[0mself\u001B[0m\u001B[0;34m.\u001B[0m\u001B[0mvisit\u001B[0m\u001B[0;34m(\u001B[0m\u001B[0mnode\u001B[0m\u001B[0;34m.\u001B[0m\u001B[0mright\u001B[0m\u001B[0;34m,\u001B[0m \u001B[0mside\u001B[0m\u001B[0;34m=\u001B[0m\u001B[0;34m\"right\"\u001B[0m\u001B[0;34m)\u001B[0m\u001B[0;34m\u001B[0m\u001B[0;34m\u001B[0m\u001B[0m\n\u001B[0m\u001B[1;32m    445\u001B[0m         \u001B[0mop\u001B[0m\u001B[0;34m,\u001B[0m \u001B[0mop_class\u001B[0m\u001B[0;34m,\u001B[0m \u001B[0mleft\u001B[0m\u001B[0;34m,\u001B[0m \u001B[0mright\u001B[0m \u001B[0;34m=\u001B[0m \u001B[0mself\u001B[0m\u001B[0;34m.\u001B[0m\u001B[0m_rewrite_membership_op\u001B[0m\u001B[0;34m(\u001B[0m\u001B[0mnode\u001B[0m\u001B[0;34m,\u001B[0m \u001B[0mleft\u001B[0m\u001B[0;34m,\u001B[0m \u001B[0mright\u001B[0m\u001B[0;34m)\u001B[0m\u001B[0;34m\u001B[0m\u001B[0;34m\u001B[0m\u001B[0m\n\u001B[1;32m    446\u001B[0m         \u001B[0;32mreturn\u001B[0m \u001B[0mop\u001B[0m\u001B[0;34m,\u001B[0m \u001B[0mop_class\u001B[0m\u001B[0;34m,\u001B[0m \u001B[0mleft\u001B[0m\u001B[0;34m,\u001B[0m \u001B[0mright\u001B[0m\u001B[0;34m\u001B[0m\u001B[0;34m\u001B[0m\u001B[0m\n",
      "\u001B[0;32m~/opt/anaconda3/lib/python3.8/site-packages/pandas/core/computation/expr.py\u001B[0m in \u001B[0;36mvisit\u001B[0;34m(self, node, **kwargs)\u001B[0m\n\u001B[1;32m    399\u001B[0m         \u001B[0mmethod\u001B[0m \u001B[0;34m=\u001B[0m \u001B[0;34m\"visit_\"\u001B[0m \u001B[0;34m+\u001B[0m \u001B[0mtype\u001B[0m\u001B[0;34m(\u001B[0m\u001B[0mnode\u001B[0m\u001B[0;34m)\u001B[0m\u001B[0;34m.\u001B[0m\u001B[0m__name__\u001B[0m\u001B[0;34m\u001B[0m\u001B[0;34m\u001B[0m\u001B[0m\n\u001B[1;32m    400\u001B[0m         \u001B[0mvisitor\u001B[0m \u001B[0;34m=\u001B[0m \u001B[0mgetattr\u001B[0m\u001B[0;34m(\u001B[0m\u001B[0mself\u001B[0m\u001B[0;34m,\u001B[0m \u001B[0mmethod\u001B[0m\u001B[0;34m)\u001B[0m\u001B[0;34m\u001B[0m\u001B[0;34m\u001B[0m\u001B[0m\n\u001B[0;32m--> 401\u001B[0;31m         \u001B[0;32mreturn\u001B[0m \u001B[0mvisitor\u001B[0m\u001B[0;34m(\u001B[0m\u001B[0mnode\u001B[0m\u001B[0;34m,\u001B[0m \u001B[0;34m**\u001B[0m\u001B[0mkwargs\u001B[0m\u001B[0;34m)\u001B[0m\u001B[0;34m\u001B[0m\u001B[0;34m\u001B[0m\u001B[0m\n\u001B[0m\u001B[1;32m    402\u001B[0m \u001B[0;34m\u001B[0m\u001B[0m\n\u001B[1;32m    403\u001B[0m     \u001B[0;32mdef\u001B[0m \u001B[0mvisit_Module\u001B[0m\u001B[0;34m(\u001B[0m\u001B[0mself\u001B[0m\u001B[0;34m,\u001B[0m \u001B[0mnode\u001B[0m\u001B[0;34m,\u001B[0m \u001B[0;34m**\u001B[0m\u001B[0mkwargs\u001B[0m\u001B[0;34m)\u001B[0m\u001B[0;34m:\u001B[0m\u001B[0;34m\u001B[0m\u001B[0;34m\u001B[0m\u001B[0m\n",
      "\u001B[0;32m~/opt/anaconda3/lib/python3.8/site-packages/pandas/core/computation/expr.py\u001B[0m in \u001B[0;36mvisit_Name\u001B[0;34m(self, node, **kwargs)\u001B[0m\n\u001B[1;32m    533\u001B[0m \u001B[0;34m\u001B[0m\u001B[0m\n\u001B[1;32m    534\u001B[0m     \u001B[0;32mdef\u001B[0m \u001B[0mvisit_Name\u001B[0m\u001B[0;34m(\u001B[0m\u001B[0mself\u001B[0m\u001B[0;34m,\u001B[0m \u001B[0mnode\u001B[0m\u001B[0;34m,\u001B[0m \u001B[0;34m**\u001B[0m\u001B[0mkwargs\u001B[0m\u001B[0;34m)\u001B[0m\u001B[0;34m:\u001B[0m\u001B[0;34m\u001B[0m\u001B[0;34m\u001B[0m\u001B[0m\n\u001B[0;32m--> 535\u001B[0;31m         \u001B[0;32mreturn\u001B[0m \u001B[0mself\u001B[0m\u001B[0;34m.\u001B[0m\u001B[0mterm_type\u001B[0m\u001B[0;34m(\u001B[0m\u001B[0mnode\u001B[0m\u001B[0;34m.\u001B[0m\u001B[0mid\u001B[0m\u001B[0;34m,\u001B[0m \u001B[0mself\u001B[0m\u001B[0;34m.\u001B[0m\u001B[0menv\u001B[0m\u001B[0;34m,\u001B[0m \u001B[0;34m**\u001B[0m\u001B[0mkwargs\u001B[0m\u001B[0;34m)\u001B[0m\u001B[0;34m\u001B[0m\u001B[0;34m\u001B[0m\u001B[0m\n\u001B[0m\u001B[1;32m    536\u001B[0m \u001B[0;34m\u001B[0m\u001B[0m\n\u001B[1;32m    537\u001B[0m     \u001B[0;32mdef\u001B[0m \u001B[0mvisit_NameConstant\u001B[0m\u001B[0;34m(\u001B[0m\u001B[0mself\u001B[0m\u001B[0;34m,\u001B[0m \u001B[0mnode\u001B[0m\u001B[0;34m,\u001B[0m \u001B[0;34m**\u001B[0m\u001B[0mkwargs\u001B[0m\u001B[0;34m)\u001B[0m\u001B[0;34m:\u001B[0m\u001B[0;34m\u001B[0m\u001B[0;34m\u001B[0m\u001B[0m\n",
      "\u001B[0;32m~/opt/anaconda3/lib/python3.8/site-packages/pandas/core/computation/ops.py\u001B[0m in \u001B[0;36m__init__\u001B[0;34m(self, name, env, side, encoding)\u001B[0m\n\u001B[1;32m     84\u001B[0m         \u001B[0mtname\u001B[0m \u001B[0;34m=\u001B[0m \u001B[0mstr\u001B[0m\u001B[0;34m(\u001B[0m\u001B[0mname\u001B[0m\u001B[0;34m)\u001B[0m\u001B[0;34m\u001B[0m\u001B[0;34m\u001B[0m\u001B[0m\n\u001B[1;32m     85\u001B[0m         \u001B[0mself\u001B[0m\u001B[0;34m.\u001B[0m\u001B[0mis_local\u001B[0m \u001B[0;34m=\u001B[0m \u001B[0mtname\u001B[0m\u001B[0;34m.\u001B[0m\u001B[0mstartswith\u001B[0m\u001B[0;34m(\u001B[0m\u001B[0mLOCAL_TAG\u001B[0m\u001B[0;34m)\u001B[0m \u001B[0;32mor\u001B[0m \u001B[0mtname\u001B[0m \u001B[0;32min\u001B[0m \u001B[0mDEFAULT_GLOBALS\u001B[0m\u001B[0;34m\u001B[0m\u001B[0;34m\u001B[0m\u001B[0m\n\u001B[0;32m---> 86\u001B[0;31m         \u001B[0mself\u001B[0m\u001B[0;34m.\u001B[0m\u001B[0m_value\u001B[0m \u001B[0;34m=\u001B[0m \u001B[0mself\u001B[0m\u001B[0;34m.\u001B[0m\u001B[0m_resolve_name\u001B[0m\u001B[0;34m(\u001B[0m\u001B[0;34m)\u001B[0m\u001B[0;34m\u001B[0m\u001B[0;34m\u001B[0m\u001B[0m\n\u001B[0m\u001B[1;32m     87\u001B[0m         \u001B[0mself\u001B[0m\u001B[0;34m.\u001B[0m\u001B[0mencoding\u001B[0m \u001B[0;34m=\u001B[0m \u001B[0mencoding\u001B[0m\u001B[0;34m\u001B[0m\u001B[0;34m\u001B[0m\u001B[0m\n\u001B[1;32m     88\u001B[0m \u001B[0;34m\u001B[0m\u001B[0m\n",
      "\u001B[0;32m~/opt/anaconda3/lib/python3.8/site-packages/pandas/core/computation/ops.py\u001B[0m in \u001B[0;36m_resolve_name\u001B[0;34m(self)\u001B[0m\n\u001B[1;32m    101\u001B[0m \u001B[0;34m\u001B[0m\u001B[0m\n\u001B[1;32m    102\u001B[0m     \u001B[0;32mdef\u001B[0m \u001B[0m_resolve_name\u001B[0m\u001B[0;34m(\u001B[0m\u001B[0mself\u001B[0m\u001B[0;34m)\u001B[0m\u001B[0;34m:\u001B[0m\u001B[0;34m\u001B[0m\u001B[0;34m\u001B[0m\u001B[0m\n\u001B[0;32m--> 103\u001B[0;31m         \u001B[0mres\u001B[0m \u001B[0;34m=\u001B[0m \u001B[0mself\u001B[0m\u001B[0;34m.\u001B[0m\u001B[0menv\u001B[0m\u001B[0;34m.\u001B[0m\u001B[0mresolve\u001B[0m\u001B[0;34m(\u001B[0m\u001B[0mself\u001B[0m\u001B[0;34m.\u001B[0m\u001B[0mlocal_name\u001B[0m\u001B[0;34m,\u001B[0m \u001B[0mis_local\u001B[0m\u001B[0;34m=\u001B[0m\u001B[0mself\u001B[0m\u001B[0;34m.\u001B[0m\u001B[0mis_local\u001B[0m\u001B[0;34m)\u001B[0m\u001B[0;34m\u001B[0m\u001B[0;34m\u001B[0m\u001B[0m\n\u001B[0m\u001B[1;32m    104\u001B[0m         \u001B[0mself\u001B[0m\u001B[0;34m.\u001B[0m\u001B[0mupdate\u001B[0m\u001B[0;34m(\u001B[0m\u001B[0mres\u001B[0m\u001B[0;34m)\u001B[0m\u001B[0;34m\u001B[0m\u001B[0;34m\u001B[0m\u001B[0m\n\u001B[1;32m    105\u001B[0m \u001B[0;34m\u001B[0m\u001B[0m\n",
      "\u001B[0;32m~/opt/anaconda3/lib/python3.8/site-packages/pandas/core/computation/scope.py\u001B[0m in \u001B[0;36mresolve\u001B[0;34m(self, key, is_local)\u001B[0m\n\u001B[1;32m    215\u001B[0m                 \u001B[0;32mfrom\u001B[0m \u001B[0mpandas\u001B[0m\u001B[0;34m.\u001B[0m\u001B[0mcore\u001B[0m\u001B[0;34m.\u001B[0m\u001B[0mcomputation\u001B[0m\u001B[0;34m.\u001B[0m\u001B[0mops\u001B[0m \u001B[0;32mimport\u001B[0m \u001B[0mUndefinedVariableError\u001B[0m\u001B[0;34m\u001B[0m\u001B[0;34m\u001B[0m\u001B[0m\n\u001B[1;32m    216\u001B[0m \u001B[0;34m\u001B[0m\u001B[0m\n\u001B[0;32m--> 217\u001B[0;31m                 \u001B[0;32mraise\u001B[0m \u001B[0mUndefinedVariableError\u001B[0m\u001B[0;34m(\u001B[0m\u001B[0mkey\u001B[0m\u001B[0;34m,\u001B[0m \u001B[0mis_local\u001B[0m\u001B[0;34m)\u001B[0m \u001B[0;32mfrom\u001B[0m \u001B[0merr\u001B[0m\u001B[0;34m\u001B[0m\u001B[0;34m\u001B[0m\u001B[0m\n\u001B[0m\u001B[1;32m    218\u001B[0m \u001B[0;34m\u001B[0m\u001B[0m\n\u001B[1;32m    219\u001B[0m     \u001B[0;32mdef\u001B[0m \u001B[0mswapkey\u001B[0m\u001B[0;34m(\u001B[0m\u001B[0mself\u001B[0m\u001B[0;34m,\u001B[0m \u001B[0mold_key\u001B[0m\u001B[0;34m:\u001B[0m \u001B[0mstr\u001B[0m\u001B[0;34m,\u001B[0m \u001B[0mnew_key\u001B[0m\u001B[0;34m:\u001B[0m \u001B[0mstr\u001B[0m\u001B[0;34m,\u001B[0m \u001B[0mnew_value\u001B[0m\u001B[0;34m=\u001B[0m\u001B[0;32mNone\u001B[0m\u001B[0;34m)\u001B[0m\u001B[0;34m:\u001B[0m\u001B[0;34m\u001B[0m\u001B[0;34m\u001B[0m\u001B[0m\n",
      "\u001B[0;31mUndefinedVariableError\u001B[0m: name 'married' is not defined"
     ]
    }
   ],
   "source": [
    "df.query(\"family_status == married and income_category == midle\")"
   ],
   "metadata": {
    "collapsed": false,
    "pycharm": {
     "name": "#%%\n"
    }
   }
  },
  {
   "cell_type": "code",
   "execution_count": 55,
   "outputs": [
    {
     "data": {
      "text/plain": "   children  days_employed  dob_years            education  education_id  \\\n0         1   -8437.673028         42    bachelor's degree             0   \n1         1   -4024.803754         36  secondary education             1   \n2         0   -5623.422610         33  Secondary Education             1   \n3         3   -4124.747207         32  secondary education             1   \n4         0  340266.072047         53  secondary education             1   \n\n       family_status  family_status_id gender income_type  debt  total_income  \\\n0            married                 0      F    employee     0     40620.102   \n1            married                 0      F    employee     0     17932.802   \n2            married                 0      M    employee     0     23341.752   \n3            married                 0      M    employee     0     42820.568   \n4  civil partnership                 1      F     retiree     0     25378.572   \n\n                   purpose income_category  \n0    purchase of the house            rich  \n1             car purchase           midle  \n2    purchase of the house           midle  \n3  supplementary education            rich  \n4        to have a wedding            high  ",
      "text/html": "<div>\n<style scoped>\n    .dataframe tbody tr th:only-of-type {\n        vertical-align: middle;\n    }\n\n    .dataframe tbody tr th {\n        vertical-align: top;\n    }\n\n    .dataframe thead th {\n        text-align: right;\n    }\n</style>\n<table border=\"1\" class=\"dataframe\">\n  <thead>\n    <tr style=\"text-align: right;\">\n      <th></th>\n      <th>children</th>\n      <th>days_employed</th>\n      <th>dob_years</th>\n      <th>education</th>\n      <th>education_id</th>\n      <th>family_status</th>\n      <th>family_status_id</th>\n      <th>gender</th>\n      <th>income_type</th>\n      <th>debt</th>\n      <th>total_income</th>\n      <th>purpose</th>\n      <th>income_category</th>\n    </tr>\n  </thead>\n  <tbody>\n    <tr>\n      <th>0</th>\n      <td>1</td>\n      <td>-8437.673028</td>\n      <td>42</td>\n      <td>bachelor's degree</td>\n      <td>0</td>\n      <td>married</td>\n      <td>0</td>\n      <td>F</td>\n      <td>employee</td>\n      <td>0</td>\n      <td>40620.102</td>\n      <td>purchase of the house</td>\n      <td>rich</td>\n    </tr>\n    <tr>\n      <th>1</th>\n      <td>1</td>\n      <td>-4024.803754</td>\n      <td>36</td>\n      <td>secondary education</td>\n      <td>1</td>\n      <td>married</td>\n      <td>0</td>\n      <td>F</td>\n      <td>employee</td>\n      <td>0</td>\n      <td>17932.802</td>\n      <td>car purchase</td>\n      <td>midle</td>\n    </tr>\n    <tr>\n      <th>2</th>\n      <td>0</td>\n      <td>-5623.422610</td>\n      <td>33</td>\n      <td>Secondary Education</td>\n      <td>1</td>\n      <td>married</td>\n      <td>0</td>\n      <td>M</td>\n      <td>employee</td>\n      <td>0</td>\n      <td>23341.752</td>\n      <td>purchase of the house</td>\n      <td>midle</td>\n    </tr>\n    <tr>\n      <th>3</th>\n      <td>3</td>\n      <td>-4124.747207</td>\n      <td>32</td>\n      <td>secondary education</td>\n      <td>1</td>\n      <td>married</td>\n      <td>0</td>\n      <td>M</td>\n      <td>employee</td>\n      <td>0</td>\n      <td>42820.568</td>\n      <td>supplementary education</td>\n      <td>rich</td>\n    </tr>\n    <tr>\n      <th>4</th>\n      <td>0</td>\n      <td>340266.072047</td>\n      <td>53</td>\n      <td>secondary education</td>\n      <td>1</td>\n      <td>civil partnership</td>\n      <td>1</td>\n      <td>F</td>\n      <td>retiree</td>\n      <td>0</td>\n      <td>25378.572</td>\n      <td>to have a wedding</td>\n      <td>high</td>\n    </tr>\n  </tbody>\n</table>\n</div>"
     },
     "execution_count": 55,
     "metadata": {},
     "output_type": "execute_result"
    }
   ],
   "source": [
    "df.head()"
   ],
   "metadata": {
    "collapsed": false,
    "pycharm": {
     "name": "#%%\n"
    }
   }
  },
  {
   "cell_type": "code",
   "execution_count": 56,
   "outputs": [],
   "source": [
    "from nltk.tokenize import word_tokenize"
   ],
   "metadata": {
    "collapsed": false,
    "pycharm": {
     "name": "#%%\n"
    }
   }
  },
  {
   "cell_type": "code",
   "execution_count": 57,
   "outputs": [
    {
     "name": "stderr",
     "output_type": "stream",
     "text": [
      "[nltk_data] Downloading package punkt to\n",
      "[nltk_data]     /Users/huseyintunc/nltk_data...\n",
      "[nltk_data]   Package punkt is already up-to-date!\n"
     ]
    },
    {
     "data": {
      "text/plain": "True"
     },
     "execution_count": 57,
     "metadata": {},
     "output_type": "execute_result"
    }
   ],
   "source": [
    "import nltk\n",
    "nltk.download('punkt')"
   ],
   "metadata": {
    "collapsed": false,
    "pycharm": {
     "name": "#%%\n"
    }
   }
  },
  {
   "cell_type": "code",
   "execution_count": 58,
   "outputs": [
    {
     "data": {
      "text/plain": "'car purchase'"
     },
     "execution_count": 58,
     "metadata": {},
     "output_type": "execute_result"
    }
   ],
   "source": [
    "text = df.purpose[1]\n",
    "text"
   ],
   "metadata": {
    "collapsed": false,
    "pycharm": {
     "name": "#%%\n"
    }
   }
  },
  {
   "cell_type": "code",
   "execution_count": 59,
   "outputs": [
    {
     "data": {
      "text/plain": "['car', 'purchase']"
     },
     "execution_count": 59,
     "metadata": {},
     "output_type": "execute_result"
    }
   ],
   "source": [
    "word_list = word_tokenize(text)\n",
    "word_list"
   ],
   "metadata": {
    "collapsed": false,
    "pycharm": {
     "name": "#%%\n"
    }
   }
  },
  {
   "cell_type": "code",
   "execution_count": 60,
   "outputs": [],
   "source": [
    "from nltk.stem import SnowballStemmer\n",
    "stemmer = SnowballStemmer('english')"
   ],
   "metadata": {
    "collapsed": false,
    "pycharm": {
     "name": "#%%\n"
    }
   }
  },
  {
   "cell_type": "code",
   "execution_count": 61,
   "outputs": [
    {
     "name": "stdout",
     "output_type": "stream",
     "text": [
      "car\n",
      "purchas\n"
     ]
    }
   ],
   "source": [
    "for word in word_list:\n",
    "    print(stemmer.stem(word))"
   ],
   "metadata": {
    "collapsed": false,
    "pycharm": {
     "name": "#%%\n"
    }
   }
  },
  {
   "cell_type": "code",
   "execution_count": 62,
   "outputs": [
    {
     "data": {
      "text/plain": "array(['purchase of the house', 'car purchase', 'supplementary education',\n       'to have a wedding', 'housing transactions', 'education',\n       'having a wedding', 'purchase of the house for my family',\n       'buy real estate', 'buy commercial real estate',\n       'buy residential real estate', 'construction of own property',\n       'property', 'building a property', 'buying a second-hand car',\n       'buying my own car', 'transactions with commercial real estate',\n       'building a real estate', 'housing',\n       'transactions with my real estate', 'cars', 'to become educated',\n       'second-hand car purchase', 'getting an education', 'car',\n       'wedding ceremony', 'to get a supplementary education',\n       'purchase of my own house', 'real estate transactions',\n       'getting higher education', 'to own a car', 'purchase of a car',\n       'profile education', 'university education',\n       'buying property for renting out', 'to buy a car',\n       'housing renovation', 'going to university'], dtype=object)"
     },
     "execution_count": 62,
     "metadata": {},
     "output_type": "execute_result"
    }
   ],
   "source": [
    "df.purpose.unique()"
   ],
   "metadata": {
    "collapsed": false,
    "pycharm": {
     "name": "#%%\n"
    }
   }
  },
  {
   "cell_type": "code",
   "execution_count": 63,
   "outputs": [
    {
     "data": {
      "text/plain": "[('a', 5117),\n ('real', 4466),\n ('estat', 4466),\n ('car', 4308),\n ('buy', 3996),\n ('hous', 3809),\n ('educ', 3518),\n ('purchas', 3306),\n ('to', 3071),\n ('of', 2994),\n ('transact', 2604),\n ('properti', 2539),\n ('my', 2390),\n ('wed', 2335),\n ('own', 2239),\n ('have', 1542),\n ('get', 1315),\n ('commerci', 1312),\n ('for', 1290),\n ('the', 1284),\n ('with', 1277),\n ('build', 1244),\n ('second-hand', 964),\n ('univers', 948),\n ('supplementari', 907),\n ('ceremoni', 793),\n ('rent', 652),\n ('out', 652),\n ('famili', 638),\n ('construct', 635),\n ('renov', 607),\n ('residenti', 606),\n ('go', 496),\n ('an', 442),\n ('profil', 436),\n ('higher', 426),\n ('becom', 408)]"
     },
     "execution_count": 63,
     "metadata": {},
     "output_type": "execute_result"
    }
   ],
   "source": [
    "from collections import Counter\n",
    "\n",
    "# collect purposes in all rows, and then make a big list containing all words\n",
    "# go through all words and get their stems. Sort stems according to their frequency with Counter\n",
    "words_list =[]\n",
    "for sentence in df.purpose:\n",
    "    words = word_tokenize(sentence)\n",
    "    for word in words:\n",
    "        stemmed = stemmer.stem(word)\n",
    "        words_list.append(stemmed)\n",
    "Counter(words_list).most_common()"
   ],
   "metadata": {
    "collapsed": false,
    "pycharm": {
     "name": "#%%\n"
    }
   }
  },
  {
   "cell_type": "code",
   "execution_count": 64,
   "outputs": [
    {
     "data": {
      "text/plain": "'buying my own car'"
     },
     "execution_count": 64,
     "metadata": {},
     "output_type": "execute_result"
    }
   ],
   "source": [
    "df.purpose[101]"
   ],
   "metadata": {
    "collapsed": false,
    "pycharm": {
     "name": "#%%\n"
    }
   }
  },
  {
   "cell_type": "code",
   "execution_count": 65,
   "outputs": [
    {
     "name": "stdout",
     "output_type": "stream",
     "text": [
      "car\n"
     ]
    }
   ],
   "source": [
    "def purpose_shorter(purpose):\n",
    "    \"\"\"takes purpose, makes lsit of words in it and then obtains stems of those words,\n",
    "    while producing list of stems. Later it checks each purpose if it contains\n",
    "    specific stem, then assing categories: house, car, education and wedding\"\"\"\n",
    "    stems =[]\n",
    "    words = word_tokenize(purpose)\n",
    "    for word in words:\n",
    "        stemmed = stemmer.stem(word)\n",
    "        stems.append(stemmed)\n",
    "    if ('hous' in stems) or ('properti' in stems) or ('estat' in stems):\n",
    "        return 'house'\n",
    "    if 'car' in stems:\n",
    "        return 'car'\n",
    "    if ('educ'in stems) or ('univers' in stems):\n",
    "        return 'education'\n",
    "    if 'wed' in stems:\n",
    "        return 'wedding'\n",
    "    else:\n",
    "        return float('NaN')\n",
    "\n",
    "\n",
    "# check if the function is working properly\n",
    "print(purpose_shorter(df.purpose[101]))"
   ],
   "metadata": {
    "collapsed": false,
    "pycharm": {
     "name": "#%%\n"
    }
   }
  },
  {
   "cell_type": "code",
   "execution_count": 66,
   "outputs": [
    {
     "data": {
      "text/plain": "       children  days_employed  dob_years            education  education_id  \\\n7697          2    -600.857745         37  secondary education             1   \n10888         0    -734.711073         45  secondary education             1   \n6646          0    -379.942017         48  secondary education             1   \n3715          0   -3396.168085         31  secondary education             1   \n868           0     -97.643431         37  secondary education             1   \n\n           family_status  family_status_id gender    income_type  debt  \\\n7697   civil partnership                 1      F       business     0   \n10888            married                 0      F       employee     0   \n6646             married                 0      F       employee     0   \n3715             married                 0      F  civil servant     0   \n868            unmarried                 4      M       employee     1   \n\n       total_income                   purpose income_category purpose_category  \n7697      10980.249                       car             low              car  \n10888      8274.470        housing renovation             low            house  \n6646      36859.216  buying a second-hand car            rich              car  \n3715      23320.927                  property           midle            house  \n868       56393.103        housing renovation            rich            house  ",
      "text/html": "<div>\n<style scoped>\n    .dataframe tbody tr th:only-of-type {\n        vertical-align: middle;\n    }\n\n    .dataframe tbody tr th {\n        vertical-align: top;\n    }\n\n    .dataframe thead th {\n        text-align: right;\n    }\n</style>\n<table border=\"1\" class=\"dataframe\">\n  <thead>\n    <tr style=\"text-align: right;\">\n      <th></th>\n      <th>children</th>\n      <th>days_employed</th>\n      <th>dob_years</th>\n      <th>education</th>\n      <th>education_id</th>\n      <th>family_status</th>\n      <th>family_status_id</th>\n      <th>gender</th>\n      <th>income_type</th>\n      <th>debt</th>\n      <th>total_income</th>\n      <th>purpose</th>\n      <th>income_category</th>\n      <th>purpose_category</th>\n    </tr>\n  </thead>\n  <tbody>\n    <tr>\n      <th>7697</th>\n      <td>2</td>\n      <td>-600.857745</td>\n      <td>37</td>\n      <td>secondary education</td>\n      <td>1</td>\n      <td>civil partnership</td>\n      <td>1</td>\n      <td>F</td>\n      <td>business</td>\n      <td>0</td>\n      <td>10980.249</td>\n      <td>car</td>\n      <td>low</td>\n      <td>car</td>\n    </tr>\n    <tr>\n      <th>10888</th>\n      <td>0</td>\n      <td>-734.711073</td>\n      <td>45</td>\n      <td>secondary education</td>\n      <td>1</td>\n      <td>married</td>\n      <td>0</td>\n      <td>F</td>\n      <td>employee</td>\n      <td>0</td>\n      <td>8274.470</td>\n      <td>housing renovation</td>\n      <td>low</td>\n      <td>house</td>\n    </tr>\n    <tr>\n      <th>6646</th>\n      <td>0</td>\n      <td>-379.942017</td>\n      <td>48</td>\n      <td>secondary education</td>\n      <td>1</td>\n      <td>married</td>\n      <td>0</td>\n      <td>F</td>\n      <td>employee</td>\n      <td>0</td>\n      <td>36859.216</td>\n      <td>buying a second-hand car</td>\n      <td>rich</td>\n      <td>car</td>\n    </tr>\n    <tr>\n      <th>3715</th>\n      <td>0</td>\n      <td>-3396.168085</td>\n      <td>31</td>\n      <td>secondary education</td>\n      <td>1</td>\n      <td>married</td>\n      <td>0</td>\n      <td>F</td>\n      <td>civil servant</td>\n      <td>0</td>\n      <td>23320.927</td>\n      <td>property</td>\n      <td>midle</td>\n      <td>house</td>\n    </tr>\n    <tr>\n      <th>868</th>\n      <td>0</td>\n      <td>-97.643431</td>\n      <td>37</td>\n      <td>secondary education</td>\n      <td>1</td>\n      <td>unmarried</td>\n      <td>4</td>\n      <td>M</td>\n      <td>employee</td>\n      <td>1</td>\n      <td>56393.103</td>\n      <td>housing renovation</td>\n      <td>rich</td>\n      <td>house</td>\n    </tr>\n  </tbody>\n</table>\n</div>"
     },
     "execution_count": 66,
     "metadata": {},
     "output_type": "execute_result"
    }
   ],
   "source": [
    "#apply the function the data and make a new column\n",
    "df['purpose_category'] = df.purpose.apply(purpose_shorter)\n",
    "\n",
    "#check new data\n",
    "df.sample(5)"
   ],
   "metadata": {
    "collapsed": false,
    "pycharm": {
     "name": "#%%\n"
    }
   }
  },
  {
   "cell_type": "code",
   "execution_count": 67,
   "outputs": [
    {
     "data": {
      "text/plain": "4"
     },
     "execution_count": 67,
     "metadata": {},
     "output_type": "execute_result"
    }
   ],
   "source": [
    "df.purpose_category.nunique()"
   ],
   "metadata": {
    "collapsed": false,
    "pycharm": {
     "name": "#%%\n"
    }
   }
  },
  {
   "cell_type": "code",
   "execution_count": 68,
   "outputs": [],
   "source": [
    "#Is there a connection between having kids and repaying a loan on time?\n",
    "pivot_table_kid = df.pivot_table(values=None, index=\"debt\", columns=\"children\", aggfunc={'debt':['count']}, fill_value=None, margins=False, dropna=True, margins_name='All', observed=False)"
   ],
   "metadata": {
    "collapsed": false,
    "pycharm": {
     "name": "#%%\n"
    }
   }
  },
  {
   "cell_type": "code",
   "execution_count": 69,
   "outputs": [
    {
     "data": {
      "text/plain": "                 debt                                                      \\\n                count                                                       \nchildren          -1             0            1            2           3    \ndebt                                                                        \n0            46.00000  13044.000000  4365.000000  1858.000000  303.000000   \n1             1.00000   1063.000000   444.000000   194.000000   27.000000   \ndefaulted %   2.12766      7.535266     9.232689     9.454191    8.181818   \n\n                                        \n                                        \nchildren            4    5          20  \ndebt                                    \n0            37.000000  9.0  68.000000  \n1             4.000000  NaN   8.000000  \ndefaulted %   9.756098  NaN  10.526316  ",
      "text/html": "<div>\n<style scoped>\n    .dataframe tbody tr th:only-of-type {\n        vertical-align: middle;\n    }\n\n    .dataframe tbody tr th {\n        vertical-align: top;\n    }\n\n    .dataframe thead tr th {\n        text-align: left;\n    }\n\n    .dataframe thead tr:last-of-type th {\n        text-align: right;\n    }\n</style>\n<table border=\"1\" class=\"dataframe\">\n  <thead>\n    <tr>\n      <th></th>\n      <th colspan=\"8\" halign=\"left\">debt</th>\n    </tr>\n    <tr>\n      <th></th>\n      <th colspan=\"8\" halign=\"left\">count</th>\n    </tr>\n    <tr>\n      <th>children</th>\n      <th>-1</th>\n      <th>0</th>\n      <th>1</th>\n      <th>2</th>\n      <th>3</th>\n      <th>4</th>\n      <th>5</th>\n      <th>20</th>\n    </tr>\n    <tr>\n      <th>debt</th>\n      <th></th>\n      <th></th>\n      <th></th>\n      <th></th>\n      <th></th>\n      <th></th>\n      <th></th>\n      <th></th>\n    </tr>\n  </thead>\n  <tbody>\n    <tr>\n      <th>0</th>\n      <td>46.00000</td>\n      <td>13044.000000</td>\n      <td>4365.000000</td>\n      <td>1858.000000</td>\n      <td>303.000000</td>\n      <td>37.000000</td>\n      <td>9.0</td>\n      <td>68.000000</td>\n    </tr>\n    <tr>\n      <th>1</th>\n      <td>1.00000</td>\n      <td>1063.000000</td>\n      <td>444.000000</td>\n      <td>194.000000</td>\n      <td>27.000000</td>\n      <td>4.000000</td>\n      <td>NaN</td>\n      <td>8.000000</td>\n    </tr>\n    <tr>\n      <th>defaulted %</th>\n      <td>2.12766</td>\n      <td>7.535266</td>\n      <td>9.232689</td>\n      <td>9.454191</td>\n      <td>8.181818</td>\n      <td>9.756098</td>\n      <td>NaN</td>\n      <td>10.526316</td>\n    </tr>\n  </tbody>\n</table>\n</div>"
     },
     "execution_count": 69,
     "metadata": {},
     "output_type": "execute_result"
    }
   ],
   "source": [
    "#calculate the percentage of customers who defaulted out of total customers\n",
    "# and add this percantge as a third row of the pivot table\n",
    "pivot_table_kid.loc['defaulted %'] = pivot_table_kid.loc[1]*100/(pivot_table_kid.loc[0] + pivot_table_kid.loc[1])\n",
    "pivot_table_kid"
   ],
   "metadata": {
    "collapsed": false,
    "pycharm": {
     "name": "#%%\n"
    }
   }
  },
  {
   "cell_type": "code",
   "execution_count": 70,
   "outputs": [],
   "source": [
    "# Is there a connection between marital status and repaying a loan on time?"
   ],
   "metadata": {
    "collapsed": false,
    "pycharm": {
     "name": "#%%\n"
    }
   }
  },
  {
   "cell_type": "code",
   "execution_count": 71,
   "outputs": [
    {
     "data": {
      "text/plain": "                           debt                                         \\\n                          count                                          \nfamily_status civil partnership     divorced       married   unmarried   \ndebt                                                                     \n0                   3775.000000  1110.000000  11413.000000  2536.00000   \n1                    388.000000    85.000000    931.000000   274.00000   \ndefaulted %            9.320202     7.112971      7.542126     9.75089   \n\n                               \n                               \nfamily_status widow / widower  \ndebt                           \n0                  896.000000  \n1                   63.000000  \ndefaulted %          6.569343  ",
      "text/html": "<div>\n<style scoped>\n    .dataframe tbody tr th:only-of-type {\n        vertical-align: middle;\n    }\n\n    .dataframe tbody tr th {\n        vertical-align: top;\n    }\n\n    .dataframe thead tr th {\n        text-align: left;\n    }\n\n    .dataframe thead tr:last-of-type th {\n        text-align: right;\n    }\n</style>\n<table border=\"1\" class=\"dataframe\">\n  <thead>\n    <tr>\n      <th></th>\n      <th colspan=\"5\" halign=\"left\">debt</th>\n    </tr>\n    <tr>\n      <th></th>\n      <th colspan=\"5\" halign=\"left\">count</th>\n    </tr>\n    <tr>\n      <th>family_status</th>\n      <th>civil partnership</th>\n      <th>divorced</th>\n      <th>married</th>\n      <th>unmarried</th>\n      <th>widow / widower</th>\n    </tr>\n    <tr>\n      <th>debt</th>\n      <th></th>\n      <th></th>\n      <th></th>\n      <th></th>\n      <th></th>\n    </tr>\n  </thead>\n  <tbody>\n    <tr>\n      <th>0</th>\n      <td>3775.000000</td>\n      <td>1110.000000</td>\n      <td>11413.000000</td>\n      <td>2536.00000</td>\n      <td>896.000000</td>\n    </tr>\n    <tr>\n      <th>1</th>\n      <td>388.000000</td>\n      <td>85.000000</td>\n      <td>931.000000</td>\n      <td>274.00000</td>\n      <td>63.000000</td>\n    </tr>\n    <tr>\n      <th>defaulted %</th>\n      <td>9.320202</td>\n      <td>7.112971</td>\n      <td>7.542126</td>\n      <td>9.75089</td>\n      <td>6.569343</td>\n    </tr>\n  </tbody>\n</table>\n</div>"
     },
     "execution_count": 71,
     "metadata": {},
     "output_type": "execute_result"
    }
   ],
   "source": [
    "pivot_table_marital = df.pivot_table(values=None, index=\"debt\", columns=\"family_status\", aggfunc={'debt':['count']}, fill_value=None, margins=False, dropna=True, margins_name='All', observed=False)\n",
    "pivot_table_marital.loc['defaulted %'] = pivot_table_marital.loc[1]*100/(pivot_table_marital.loc[0] + pivot_table_marital.loc[1])\n",
    "pivot_table_marital"
   ],
   "metadata": {
    "collapsed": false,
    "pycharm": {
     "name": "#%%\n"
    }
   }
  },
  {
   "cell_type": "code",
   "execution_count": null,
   "outputs": [],
   "source": [
    "#Is there a connection between income level and repaying a loan on time?"
   ],
   "metadata": {
    "collapsed": false,
    "pycharm": {
     "name": "#%%\n"
    }
   }
  },
  {
   "cell_type": "code",
   "execution_count": 73,
   "outputs": [
    {
     "data": {
      "text/plain": "                        debt                                      \n                       count                                      \nincome_category         high          low       midle         rich\ndebt                                                              \n0                2955.000000  4940.000000  4899.00000  6936.000000\n1                 292.000000   427.000000   469.00000   553.000000\ndefaulted %         8.992917     7.956028     8.73696     7.384163",
      "text/html": "<div>\n<style scoped>\n    .dataframe tbody tr th:only-of-type {\n        vertical-align: middle;\n    }\n\n    .dataframe tbody tr th {\n        vertical-align: top;\n    }\n\n    .dataframe thead tr th {\n        text-align: left;\n    }\n\n    .dataframe thead tr:last-of-type th {\n        text-align: right;\n    }\n</style>\n<table border=\"1\" class=\"dataframe\">\n  <thead>\n    <tr>\n      <th></th>\n      <th colspan=\"4\" halign=\"left\">debt</th>\n    </tr>\n    <tr>\n      <th></th>\n      <th colspan=\"4\" halign=\"left\">count</th>\n    </tr>\n    <tr>\n      <th>income_category</th>\n      <th>high</th>\n      <th>low</th>\n      <th>midle</th>\n      <th>rich</th>\n    </tr>\n    <tr>\n      <th>debt</th>\n      <th></th>\n      <th></th>\n      <th></th>\n      <th></th>\n    </tr>\n  </thead>\n  <tbody>\n    <tr>\n      <th>0</th>\n      <td>2955.000000</td>\n      <td>4940.000000</td>\n      <td>4899.00000</td>\n      <td>6936.000000</td>\n    </tr>\n    <tr>\n      <th>1</th>\n      <td>292.000000</td>\n      <td>427.000000</td>\n      <td>469.00000</td>\n      <td>553.000000</td>\n    </tr>\n    <tr>\n      <th>defaulted %</th>\n      <td>8.992917</td>\n      <td>7.956028</td>\n      <td>8.73696</td>\n      <td>7.384163</td>\n    </tr>\n  </tbody>\n</table>\n</div>"
     },
     "execution_count": 73,
     "metadata": {},
     "output_type": "execute_result"
    }
   ],
   "source": [
    "pivot_table_income = df.pivot_table(values=None, index=\"debt\", columns=\"income_category\", aggfunc={'debt':['count']}, fill_value=None, margins=False, dropna=True, margins_name='All', observed=False)\n",
    "pivot_table_income.loc['defaulted %'] = pivot_table_income.loc[1]*100/(pivot_table_income.loc[0] + pivot_table_income.loc[1])\n",
    "pivot_table_income"
   ],
   "metadata": {
    "collapsed": false,
    "pycharm": {
     "name": "#%%\n"
    }
   }
  },
  {
   "cell_type": "code",
   "execution_count": 74,
   "outputs": [
    {
     "data": {
      "text/plain": "                         debt                                        \n                        count                                        \npurpose_category          car    education         house      wedding\ndebt                                                                 \n0                 3905.000000  3644.000000  10032.000000  2149.000000\n1                  403.000000   370.000000    782.000000   186.000000\ndefaulted %          9.354689     9.217738      7.231367     7.965739",
      "text/html": "<div>\n<style scoped>\n    .dataframe tbody tr th:only-of-type {\n        vertical-align: middle;\n    }\n\n    .dataframe tbody tr th {\n        vertical-align: top;\n    }\n\n    .dataframe thead tr th {\n        text-align: left;\n    }\n\n    .dataframe thead tr:last-of-type th {\n        text-align: right;\n    }\n</style>\n<table border=\"1\" class=\"dataframe\">\n  <thead>\n    <tr>\n      <th></th>\n      <th colspan=\"4\" halign=\"left\">debt</th>\n    </tr>\n    <tr>\n      <th></th>\n      <th colspan=\"4\" halign=\"left\">count</th>\n    </tr>\n    <tr>\n      <th>purpose_category</th>\n      <th>car</th>\n      <th>education</th>\n      <th>house</th>\n      <th>wedding</th>\n    </tr>\n    <tr>\n      <th>debt</th>\n      <th></th>\n      <th></th>\n      <th></th>\n      <th></th>\n    </tr>\n  </thead>\n  <tbody>\n    <tr>\n      <th>0</th>\n      <td>3905.000000</td>\n      <td>3644.000000</td>\n      <td>10032.000000</td>\n      <td>2149.000000</td>\n    </tr>\n    <tr>\n      <th>1</th>\n      <td>403.000000</td>\n      <td>370.000000</td>\n      <td>782.000000</td>\n      <td>186.000000</td>\n    </tr>\n    <tr>\n      <th>defaulted %</th>\n      <td>9.354689</td>\n      <td>9.217738</td>\n      <td>7.231367</td>\n      <td>7.965739</td>\n    </tr>\n  </tbody>\n</table>\n</div>"
     },
     "execution_count": 74,
     "metadata": {},
     "output_type": "execute_result"
    }
   ],
   "source": [
    "pivot_table_purpose = df.pivot_table(values=None, index=\"debt\", columns=\"purpose_category\", aggfunc={'debt':['count']}, fill_value=None, margins=False, dropna=True, margins_name='All', observed=False)\n",
    "pivot_table_purpose.loc['defaulted %'] = pivot_table_purpose.loc[1]*100/(pivot_table_purpose.loc[0] + pivot_table_purpose.loc[1])\n",
    "pivot_table_purpose"
   ],
   "metadata": {
    "collapsed": false,
    "pycharm": {
     "name": "#%%\n"
    }
   }
  },
  {
   "cell_type": "markdown",
   "source": [
    "### Conclusion\n"
   ],
   "metadata": {
    "collapsed": false,
    "pycharm": {
     "name": "#%% md\n"
    }
   }
  },
  {
   "cell_type": "markdown",
   "metadata": {},
   "source": [
    "## Answer these questions\n",
    "- Is there a connection between having kids and repaying a loan on time?\n",
    "- Is there a connection between marital status and repaying a loan on time?\n",
    "- Is there a connection between income level and repaying a loan on time?\n",
    "- How do different loan purposes affect on-time loan repayment?"
   ]
  },
  {
   "cell_type": "markdown",
   "source": [
    ">### <font color='orange'>Tavsiye: </font> Her soruyu yaparken ayri bi bashlik altinda yapabilirsin!"
   ],
   "metadata": {
    "collapsed": false,
    "pycharm": {
     "name": "#%% md\n"
    }
   }
  },
  {
   "cell_type": "code",
   "execution_count": null,
   "outputs": [],
   "source": [
    "dfc = df[[\"children\",\"debt\"]]\n",
    "dfc"
   ],
   "metadata": {
    "collapsed": false,
    "pycharm": {
     "name": "#%%\n"
    }
   }
  },
  {
   "cell_type": "code",
   "execution_count": null,
   "outputs": [],
   "source": [
    "df[df[\"children\"]== 20]"
   ],
   "metadata": {
    "collapsed": false,
    "pycharm": {
     "name": "#%%\n"
    }
   }
  },
  {
   "cell_type": "markdown",
   "source": [
    ">### <font color='red'>Sorun: </font> -1 tane cocuk, veya 20 tane cocuk olan kisiler var, onlar gayet normal mi? yoksa hata falan olabilir mi? Eger hataysa nasil duzeltebiliriz?"
   ],
   "metadata": {
    "collapsed": false,
    "pycharm": {
     "name": "#%% md\n"
    }
   }
  },
  {
   "cell_type": "code",
   "execution_count": null,
   "outputs": [],
   "source": [
    "#\n",
    "sns.barplot(x = \"children\", y = \"debt\", data = dfc);"
   ],
   "metadata": {
    "collapsed": false,
    "pycharm": {
     "name": "#%%\n"
    }
   }
  },
  {
   "cell_type": "markdown",
   "source": [
    ">### <font color='red'>Sorun: </font> Tum graphs icin gecerli: 1) plot_title eklenmesi lazim; 2) x and y axis label eklenmesi lazim; 3) kissadan hisse seklinde bir iki cumleyle graph'da neler gorebiliyorsun/ onu nasil yorumlarsin eklebeilir!"
   ],
   "metadata": {
    "collapsed": false,
    "pycharm": {
     "name": "#%% md\n"
    }
   }
  },
  {
   "cell_type": "code",
   "execution_count": null,
   "outputs": [],
   "source": [
    "sns.boxplot(x=\"children\", hue=\"debt\", data=dfc);"
   ],
   "metadata": {
    "collapsed": false,
    "pycharm": {
     "name": "#%%\n"
    }
   }
  },
  {
   "cell_type": "code",
   "execution_count": null,
   "outputs": [],
   "source": [
    "(sns\n",
    " .FacetGrid(df,\n",
    "            hue = \"children\",\n",
    "            height = 5,\n",
    "            xlim = (0,0.1))\n",
    " .map(sns.kdeplot,\"debt\", shade = True)\n",
    " .add_legend()\n",
    " );"
   ],
   "metadata": {
    "collapsed": false,
    "pycharm": {
     "name": "#%%\n"
    }
   }
  },
  {
   "cell_type": "markdown",
   "source": [],
   "metadata": {
    "collapsed": false,
    "pycharm": {
     "name": "#%% md\n"
    }
   }
  },
  {
   "cell_type": "markdown",
   "source": [
    ">### <font color='green'>Guzel: </font> Bu graphí cok sevdim. Fakat, yukarida dedigim gibi -1 ve 20 falan duzeltildikten sonra x ve y oklarinin ne anlama geldigi, ve gorselden nasil bir sonuc cikardigimizi yazarsan super olur!"
   ],
   "metadata": {
    "collapsed": false,
    "pycharm": {
     "name": "#%% md\n"
    }
   }
  },
  {
   "cell_type": "code",
   "execution_count": null,
   "outputs": [],
   "source": [
    "df.groupby([\"children\",\"debt\"]).count()"
   ],
   "metadata": {
    "collapsed": false,
    "pycharm": {
     "name": "#%%\n"
    }
   }
  },
  {
   "cell_type": "code",
   "execution_count": null,
   "outputs": [],
   "source": [],
   "metadata": {
    "collapsed": false,
    "pycharm": {
     "name": "#%%\n"
    }
   }
  },
  {
   "cell_type": "code",
   "execution_count": null,
   "outputs": [],
   "source": [],
   "metadata": {
    "collapsed": false,
    "pycharm": {
     "name": "#%%\n"
    }
   }
  },
  {
   "cell_type": "code",
   "execution_count": null,
   "outputs": [],
   "source": [],
   "metadata": {
    "collapsed": false,
    "pycharm": {
     "name": "#%%\n"
    }
   }
  },
  {
   "cell_type": "code",
   "execution_count": null,
   "outputs": [],
   "source": [],
   "metadata": {
    "collapsed": false,
    "pycharm": {
     "name": "#%%\n"
    }
   }
  },
  {
   "cell_type": "markdown",
   "source": [
    "### Conclusion\n"
   ],
   "metadata": {
    "collapsed": false,
    "pycharm": {
     "name": "#%% md\n"
    }
   }
  },
  {
   "cell_type": "markdown",
   "metadata": {},
   "source": [
    "## SUMMARY\n"
   ]
  },
  {
   "cell_type": "markdown",
   "metadata": {},
   "source": []
  },
  {
   "cell_type": "markdown",
   "metadata": {},
   "source": [
    "## Project Readiness Checklist\n",
    "\n",
    "Put 'x' in the completed points. Then press Shift + Enter."
   ]
  },
  {
   "cell_type": "markdown",
   "metadata": {},
   "source": [
    "- [x] file open;\n",
    "- [ ] file examined;\n",
    "- [ ] missing values defined;\n",
    "- [ ] missing values are filled;\n",
    "- [ ] an explanation of which missing value types were detected;\n",
    "- [ ] explanation for the possible causes of missing values;\n",
    "- [ ] an explanation of how the blanks are filled;\n",
    "- [ ] replaced the real data type with an integer;\n",
    "- [ ] an explanation of which method is used to change the data type and why;\n",
    "- [ ] duplicates deleted;\n",
    "- [ ] an explanation of which method is used to find and remove duplicates;\n",
    "- [ ] description of the possible reasons for the appearance of duplicates in the data;\n",
    "- [ ] data is categorized;\n",
    "- [ ] an explanation of the principle of data categorization;\n",
    "- [ ] an answer to the question \"Is there a relation between having kids and repaying a loan on time?\";\n",
    "- [ ] an answer to the question \" Is there a relation between marital status and repaying a loan on time?\";\n",
    "- [ ] an answer to the question \" Is there a relation between income level and repaying a loan on time?\";\n",
    "- [ ] an answer to the question \" How do different loan purposes affect on-time repayment of the loan?\"\n",
    "- [ ] conclusions are present on each stage;\n",
    "- [ ] a general conclusion is made."
   ]
  },
  {
   "cell_type": "code",
   "execution_count": null,
   "outputs": [],
   "source": [],
   "metadata": {
    "collapsed": false,
    "pycharm": {
     "name": "#%%\n"
    }
   }
  }
 ],
 "metadata": {
  "kernelspec": {
   "display_name": "Python 3",
   "language": "python",
   "name": "python3"
  },
  "language_info": {
   "codemirror_mode": {
    "name": "ipython",
    "version": 3
   },
   "file_extension": ".py",
   "mimetype": "text/x-python",
   "name": "python",
   "nbconvert_exporter": "python",
   "pygments_lexer": "ipython3",
   "version": "3.8.5"
  },
  "toc": {
   "base_numbering": 1,
   "nav_menu": {},
   "number_sections": true,
   "sideBar": true,
   "skip_h1_title": true,
   "title_cell": "Table of Contents",
   "title_sidebar": "Contents",
   "toc_cell": false,
   "toc_position": {},
   "toc_section_display": true,
   "toc_window_display": false
  }
 },
 "nbformat": 4,
 "nbformat_minor": 2
}